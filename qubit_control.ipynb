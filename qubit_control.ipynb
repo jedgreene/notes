{
 "cells": [
  {
   "cell_type": "markdown",
   "metadata": {},
   "source": [
    "## Qubit Hamiltonian\n",
    "\n",
    "$\\hat{H}_4^{\\text{RWA}} \\approx \\hbar \\omega_q \\hat{N} - \\frac{\\hbar \\alpha}{2} \\hat{N} \\left( \\hat{N} - 1 \\right)$\n",
    "\n",
    "$\\hat{N} \\equiv \\hat{a}^\\dagger \\hat{a}$\n",
    "\n",
    "**Restrict to qubit subspace of** $|0\\rangle$ **and** $|1\\rangle$\n",
    "\n",
    "$\\left( \\hat{N} - \\frac{1}{2} I \\right) \\rightarrow -\\frac{1}{2} \\hat{Z}$\n",
    "\n",
    "$\\hat{a} \\rightarrow \\hat{\\sigma}_- = \\frac{1}{2} \\left( \\hat{X} - i \\hat{Y} \\right)$\n",
    "\n",
    "| **Fock number operator**           | **Qubit Pauli Z operator**      | **Qubit Pauli X and Y operators**                  |\n",
    "|------------------------------------|---------------------------------|----------------------------------------------------|\n",
    "| $\\begin{pmatrix} 1 & 0 \\\\ 0 & 2 \\end{pmatrix}$ | $\\begin{pmatrix} 1 & 0 \\\\ 0 & -1 \\end{pmatrix}$ | $\\begin{pmatrix} 0 & 1 \\\\ 1 & 0 \\end{pmatrix}$, $\\begin{pmatrix} 0 & -i \\\\ i & 0 \\end{pmatrix}$ |\n"
   ]
  },
  {
   "cell_type": "markdown",
   "metadata": {},
   "source": []
  }
 ],
 "metadata": {
  "language_info": {
   "name": "python"
  }
 },
 "nbformat": 4,
 "nbformat_minor": 2
}
