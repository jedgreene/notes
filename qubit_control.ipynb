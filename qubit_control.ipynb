{
 "cells": [
  {
   "cell_type": "markdown",
   "metadata": {
    "vscode": {
     "languageId": "plaintext"
    }
   },
   "source": [
    "---\n",
    "\n",
    "# 18. Superconducting Qubits I: Quantizing a Harmonic Oscillator, Josephson Junctions - Part 3\n",
    "\n",
    "https://www.youtube.com/watch?v=hGBAz63NIH8&t=2435s"
   ]
  },
  {
   "cell_type": "markdown",
   "metadata": {},
   "source": [
    "## The Classical and Quantum Oscillator\n",
    "\n",
    "| **Classical**                                            | **Quantum**                                             |\n",
    "|----------------------------------------------------------|---------------------------------------------------------|\n",
    "| $$ \\Phi(t) $$                                            | $$ \\hat{\\Phi} $$                                        |\n",
    "| $$ Q(t) $$                                               | $$ \\hat{Q} $$                                           |\n",
    "| $$ \\mathcal{H}(\\Phi, Q) $$                               | $$ \\hat{H}(\\hat{\\Phi}, \\hat{Q}) $$                      |\n",
    "| $$ \\{ \\Phi, Q \\} = 1 $$                                  | $$ \\left[ \\hat{\\Phi}, \\hat{Q} \\right] = i \\hbar \\hat{1} $$ |\n",
    "| $$ \\{ \\alpha, \\alpha^* \\} = \\frac{1}{i \\hbar} $$         | $$ \\left[ \\hat{a}, \\hat{a}^\\dagger \\right] = \\hat{1} $$ |\n",
    "| $$ \\{ A, B \\} = \\frac{\\partial A}{\\partial \\Phi} \\frac{\\partial B}{\\partial Q} - \\frac{\\partial B}{\\partial \\Phi} \\frac{\\partial A}{\\partial Q} $$ | $$ \\left[ \\hat{A}, \\hat{B} \\right] = \\hat{A} \\hat{B} - \\hat{B} \\hat{A} $$ |\n"
   ]
  },
  {
   "cell_type": "markdown",
   "metadata": {
    "vscode": {
     "languageId": "plaintext"
    }
   },
   "source": [
    "## The Classical and Quantum Oscillator\n",
    "\n",
    "### Classical\n",
    "\n",
    "| **Hamiltonian**                                                                                         | **Phase Space**                                                                                         |\n",
    "|---------------------------------------------------------------------------------------------------------|---------------------------------------------------------------------------------------------------------|\n",
    "| $$ H = \\frac{Q^2}{2C} + \\frac{\\Phi^2}{2L} = \\frac{1}{2} \\hbar \\omega_0 \\left( \\alpha^* \\alpha + \\alpha \\alpha^* \\right) $$ | $$ \\alpha(t) = \\sqrt{\\frac{1}{2 \\hbar Z}} \\left( \\Phi(t) + i Z Q(t) \\right) $$                         |\n",
    "|                                                                                                         | $$ \\alpha(t) = \\alpha(0) e^{-i \\omega_0 t} $$                                                           |\n",
    "|                                                                                                         | $$ \\Phi(t) = \\sqrt{\\frac{\\hbar Z}{2}} \\left( \\alpha^*(t) + \\alpha(t) \\right) $$                        |\n",
    "|                                                                                                         | $$ Q(t) = i \\sqrt{\\frac{\\hbar}{2 Z}} \\left( \\alpha^*(t) - \\alpha(t) \\right) $$                         |\n",
    "\n",
    "### Quantum\n",
    "\n",
    "| **Hamiltonian**                                                                                         | **Phase Space**                                                                                         |\n",
    "|---------------------------------------------------------------------------------------------------------|---------------------------------------------------------------------------------------------------------|\n",
    "| $$ \\hat{H} = \\frac{\\hat{\\Phi}^2}{2L} + \\frac{\\hat{Q}^2}{2C} = \\hbar \\omega_0 \\left( \\hat{a}^\\dagger \\hat{a} + \\frac{1}{2} \\right) $$ | $$ \\hat{a} = \\sqrt{\\frac{1}{2 \\hbar Z}} \\left( \\hat{\\Phi} + i Z \\hat{Q} \\right) $$                       |\n",
    "|                                                                                                         | $$ \\hat{a}(t) = \\hat{a}(0) e^{-i \\omega_0 t} \\quad (\\text{Heisenberg picture}) $$                       |\n",
    "|                                                                                                         | $$ \\hat{\\Phi} = \\Phi_{\\text{ZPF}} (\\hat{a}^\\dagger + \\hat{a}) $$                                              |\n",
    "|                                                                                                         | $$ \\hat{Q} = i Q_{\\text{ZPF}} (\\hat{a}^\\dagger - \\hat{a}) $$                                            |\n"
   ]
  },
  {
   "cell_type": "markdown",
   "metadata": {},
   "source": [
    "---\n",
    "\n",
    "# 19. Superconducting Qubits II: Circuit Quantum Electrodynamics, Readout and Calibration Methods Pt 1\n",
    "\n",
    "https://www.youtube.com/watch?v=dmYnfGo-8eM"
   ]
  },
  {
   "cell_type": "markdown",
   "metadata": {
    "vscode": {
     "languageId": "plaintext"
    }
   },
   "source": [
    "## The LC Quantum Harmonic Oscillator\n",
    "\n",
    "| **Analogous Mechanical System**                                                                                       |\n",
    "|-----------------------------------------------------------------------------------------------------------------------|\n",
    "| Position: $ \\Phi \\rightarrow x $ <br> Mass: $ C \\rightarrow m $ <br> Momentum: $ Q \\rightarrow p $ <br> Spring constant: $ L^{-1} \\rightarrow k $ |\n",
    "\n",
    "&nbsp;\n",
    "\n",
    "| **Hamiltonian**                                                                                                       | **Energy Spectrum**                                                                                                   |\n",
    "|-----------------------------------------------------------------------------------------------------------------------|-----------------------------------------------------------------------------------------------------------------------|\n",
    "| $$ \\hat{H}(\\hat{\\Phi}, \\hat{Q}) = \\frac{\\hat{\\Phi}^2}{2L} + \\frac{\\hat{Q}^2}{2C} = \\hbar \\omega_0 \\left(\\hat{a}^\\dagger \\hat{a} + \\frac{1}{2}\\right) $$ | $$ \\hat{H} \\vert n\\rangle = \\hbar \\omega_0 \\left(n + \\frac{1}{2}\\right) \\vert n\\rangle $$                             |\n",
    "\n",
    "&nbsp;\n",
    "\n",
    "| **Resonant Frequency**                 | **Characteristic Impedance**               | **Inductive Energy**                                 | **Wavefunction**                             |\n",
    "|----------------------------------------|--------------------------------------------|------------------------------------------------------|----------------------------------------------|\n",
    "| $$ \\omega_0^2 = \\frac{1}{LC} $$        | $$ Z_0 = \\frac{L}{C} $$                    | $$ \\mathcal{E}_{\\text{ind}}(\\Phi) = \\frac{\\Phi^2}{2L} $$ | $$ \\psi_n(\\Phi) \\equiv \\langle \\Phi \\vert n \\rangle $$ |\n",
    "\n",
    "&nbsp;\n",
    "| **Operator Expressions**                              | **Zero-Point Fluctuation Amplitudes**         | **Expectation Values**                                    |\n",
    "|-------------------------------------------------------|-----------------------------------------------|----------------------------------------------------------|\n",
    "| $$ \\hat{\\Phi} = \\Phi_{\\text{ZPF}} \\left(\\hat{a}^\\dagger + \\hat{a}\\right) $$ | $$ \\Phi_{\\text{ZPF}} = \\sqrt{\\frac{\\hbar Z_0}{2}} $$ | $$ \\langle 0 \\vert \\hat{\\Phi}^2 \\vert 0 \\rangle = \\Phi_{\\text{ZPF}}^2 $$ |\n",
    "| $$ \\hat{Q} = i Q_{\\text{ZPF}} \\left(\\hat{a}^\\dagger - \\hat{a}\\right) $$    | $$ Q_{\\text{ZPF}} = \\sqrt{\\frac{\\hbar}{2 Z_0}} $$      | $$ \\langle 0 \\vert \\hat{Q}^2 \\vert 0 \\rangle = Q_{\\text{ZPF}}^2 $$       |\n"
   ]
  },
  {
   "cell_type": "markdown",
   "metadata": {
    "vscode": {
     "languageId": "plaintext"
    }
   },
   "source": [
    "---\n",
    "\n",
    "# 20. Superconducting Qubits II: Circuit Quantum Electrodynamics, Readout and Calibration Methods Pt 2\n",
    "\n",
    "https://www.youtube.com/watch?v=jUPAeOoZpEU"
   ]
  },
  {
   "cell_type": "markdown",
   "metadata": {
    "vscode": {
     "languageId": "plaintext"
    }
   },
   "source": [
    "\n",
    "$$\n",
    "\\hat{H} = \\frac{\\hat{Q}^2}{2C} - E_J \\cos \\left( \\frac{\\hat{\\Phi}}{\\phi_0} \\right)\n",
    "$$\n",
    "\n",
    "$$\n",
    "\\approx \\frac{\\hat{Q}^2}{2C} + \\frac{\\hat{\\Phi}^2}{2L_J} - \\frac{E_J}{4!} \\left( \\frac{\\hat{\\Phi}}{\\phi_0} \\right)^4\n",
    "$$\n",
    "\n",
    "$$\n",
    "= \\hbar \\omega_0 \\hat{a}^\\dagger \\hat{a} - \\frac{E_J \\phi_{ZPF}^4}{4!} \\left( \\hat{a} + \\hat{a}^\\dagger \\right)^4\n",
    "$$\n"
   ]
  },
  {
   "cell_type": "markdown",
   "metadata": {},
   "source": [
    "## Qubit Hamiltonian\n",
    "\n",
    "$\\hat{H}_4^{\\text{RWA}} \\approx \\hbar \\omega_q \\hat{N} - \\frac{\\hbar \\alpha}{2} \\hat{N} \\left( \\hat{N} - 1 \\right)$\n",
    "\n",
    "$\\hat{N} \\equiv \\hat{a}^\\dagger \\hat{a}$\n",
    "\n",
    "**Restrict to qubit subspace of** $|0\\rangle$ **and** $|1\\rangle$\n",
    "\n",
    "$\\left( \\hat{N} - \\frac{1}{2} I \\right) \\rightarrow -\\frac{1}{2} \\hat{Z}$\n",
    "\n",
    "$\\hat{a} \\rightarrow \\hat{\\sigma}_- = \\frac{1}{2} \\left( \\hat{X} - i \\hat{Y} \\right)$\n",
    "\n",
    "| **Fock number operator**           | **Qubit Pauli Z operator**      | **Qubit Pauli X and Y operators**                  |\n",
    "|------------------------------------|---------------------------------|----------------------------------------------------|\n",
    "| $\\begin{pmatrix} 1 & 0 \\\\ 0 & 2 \\end{pmatrix}$ | $\\begin{pmatrix} 1 & 0 \\\\ 0 & -1 \\end{pmatrix}$ | $\\begin{pmatrix} 0 & 1 \\\\ 1 & 0 \\end{pmatrix}$, $\\begin{pmatrix} 0 & -i \\\\ i & 0 \\end{pmatrix}$ |\n"
   ]
  },
  {
   "cell_type": "markdown",
   "metadata": {
    "vscode": {
     "languageId": "plaintext"
    }
   },
   "source": [
    "---\n",
    "\n",
    "# 21. Superconducting Qubits II: Circuit Quantum Electrodynamics, Readout and Calibration Methods Pt 3\n",
    "\n",
    "https://www.youtube.com/watch?v=_IpCwMvc0dA"
   ]
  },
  {
   "cell_type": "markdown",
   "metadata": {
    "vscode": {
     "languageId": "plaintext"
    }
   },
   "source": [
    "## Drive / Interaction Hamiltonian\n",
    "\n",
    "$$\n",
    "\\hat{H}_{\\text{drive}} = - \\frac{i}{2} \\Omega(t) \\left( \\hat{a}^\\dagger - \\hat{a} \\right) \\rightarrow \\frac{1}{2} \\Omega(t) \\hat{Y}\n",
    "$$\n",
    "\n",
    "The interaction Hamiltonian between an external electric field and a qubit can be expressed as:\n",
    "\n",
    "$$\n",
    "\\hat{H}_{\\text{int}} = -\\hat{d}_{01} \\cdot \\hat{E}(t) = -\\frac{i}{2} \\Omega(t) \\left( \\hat{a}^\\dagger - \\hat{a} \\right) = -\\frac{i}{2} \\Omega(t) \\, (\\hat{\\sigma}^+ - \\hat{\\sigma}^-) = \\frac{1}{2} \\Omega(t) \\hat{Y}.\n",
    "$$\n",
    "\n",
    "### Explanation of Terms and Reasonableness\n",
    "\n",
    "1. **Transition Dipole Moment and External Electric Field**:\n",
    "   - The qubit’s states $|0\\rangle$ and $|1\\rangle$ have distinct **charge distributions**, creating a **transition dipole moment** $\\hat{d}_{01}$ that allows the external electric field $\\hat{E}(t)$ to induce transitions between $|0\\rangle$ and $|1\\rangle$. This interaction is captured by the term $-\\hat{d}_{01} \\cdot \\hat{E}(t)$, representing the **work done by the electric field** on the qubit’s charges.\n",
    "\n",
    "2. **Oscillating Field and $\\hat{Y}$ Operator**:\n",
    "   - The term $\\hat{Y} = i (\\hat{\\sigma}^+ - \\hat{\\sigma}^-)$, with $\\hat{\\sigma}^+ = |1\\rangle \\langle 0|$ and $\\hat{\\sigma}^- = |0\\rangle \\langle 1|$, represents the **rotational effect** of the field on the qubit’s state by inducing transitions. This allows the Hamiltonian to be written as $-\\frac{1}{2} \\Omega(t) \\hat{Y}$, where $\\Omega(t)$ encapsulates the **effective coupling strength**, derived from the product of $\\hat{d}_{01}$ and $\\hat{E}(t)$.\n",
    "\n",
    "3. **Energy Representation**:\n",
    "   - Each form of the Hamiltonian represents the **interaction energy** between the qubit and the oscillating field. This energy form links the electric field’s effect to the qubit’s transition dipole moment, producing controlled rotations in the qubit’s state, which are essential for manipulating the qubit in quantum operations.\n"
   ]
  },
  {
   "cell_type": "markdown",
   "metadata": {},
   "source": [
    "## Qubit control\n",
    "\n",
    "### Slide mistakes in Interaction Hamiltonian\n",
    "\n",
    "The slide's interaction Hamiltonian appears to be missing an ${\\hbar}$:\n",
    "\n",
    "$$\n",
    "\\hat{H}_{\\text{int}} = -\\frac{i \\hbar}{2} \\Omega(t) \\left( \\hat{\\sigma}^+ - \\hat{\\sigma}^- \\right).\n",
    "$$\n",
    "\n",
    "\n",
    "The slide's final interaction seems to be missing a factor of 2 in the second term and the phase is missing a subscript:\n",
    "\n",
    "$$\n",
    "\\hat{H}_R = \\frac{\\hbar}{2} \\Delta \\hat{Z} + \\frac{\\hbar}{2} \\Omega \\left( e^{-i \\theta} \\hat{\\sigma}^+ + e^{i \\theta} \\hat{\\sigma}^- \\right).\n",
    "$$\n",
    "\n",
    "### Derivation with corrections\n",
    "\n",
    "The interaction Hamiltonian between an external electric field and a qubit is given by:\n",
    "\n",
    "$$\n",
    "\\hat{H}_{\\text{int}}(t) = -\\frac{i \\hbar}{2} \\Omega(t) \\left( \\hat{\\sigma}^+ - \\hat{\\sigma}^- \\right),\n",
    "$$\n",
    "\n",
    "where $\\Omega(t)$ represents the time-dependent drive amplitude.\n",
    "\n",
    "### 1. Expressing $\\hat{\\sigma}^+$ and $\\hat{\\sigma}^-$ in the Heisenberg Picture\n",
    "\n",
    "In the Heisenberg picture, the time evolution of the raising and lowering operators $\\hat{\\sigma}^+$ and $\\hat{\\sigma}^-$ is given by:\n",
    "\n",
    "$$\n",
    "\\hat{\\sigma}^+(t) = \\hat{\\sigma}^+ e^{i \\omega t} \\quad \\text{and} \\quad \\hat{\\sigma}^-(t) = \\hat{\\sigma}^- e^{-i \\omega t}.\n",
    "$$\n",
    "\n",
    "These oscillate at the qubit's natural frequency $\\omega$, which corresponds to the frequency of the qubit.\n",
    "\n",
    "### 2. Substitute the Time Dependence of $\\Omega(t)$ and the Raising and Lowering Operators\n",
    "\n",
    "Starting with the interaction Hamiltonian:\n",
    "\n",
    "$$\n",
    "\\hat{H}_{\\text{int}}(t) = -\\frac{i \\hbar}{2} \\Omega(t) \\left( \\hat{\\sigma}^+ - \\hat{\\sigma}^- \\right),\n",
    "$$\n",
    "\n",
    "we substitute the time dependence of $\\Omega(t)$ as a sinusoidal driving field:\n",
    "\n",
    "$$\n",
    "\\Omega(t) = \\Omega_0 \\sin(\\omega_d t + \\theta_d) = \\frac{i \\Omega_0}{2} \\left( e^{-i(\\omega_d t + \\theta_d)} - e^{i(\\omega_d t + \\theta_d)} \\right).\n",
    "$$\n",
    "\n",
    "Now substitute this expression for $\\Omega(t)$ along with the time-evolved forms of $\\hat{\\sigma}^+$ and $\\hat{\\sigma}^-$:\n",
    "\n",
    "$$\n",
    "\\hat{H}_{\\text{int}}(t) = \\frac{\\hbar \\Omega_0}{4} \\left( e^{-i(\\omega_d t + \\theta_d)} - e^{i(\\omega_d t + \\theta_d)} \\right) \\left( \\hat{\\sigma}^+ e^{i \\omega t} - \\hat{\\sigma}^- e^{-i \\omega t} \\right).\n",
    "$$\n",
    "\n",
    "### 3. Expand the Terms\n",
    "\n",
    "Expanding each term:\n",
    "\n",
    "$$\n",
    "\\hat{H}_{\\text{int}}(t) = \\frac{\\hbar \\Omega_0}{4} \\left[ \\hat{\\sigma}^+ e^{i (\\omega - \\omega_d) t - i \\theta_d} - \\hat{\\sigma}^+ e^{i (\\omega + \\omega_d) t + i \\theta_d} - \\hat{\\sigma}^- e^{-i (\\omega - \\omega_d) t + i \\theta_d} + \\hat{\\sigma}^- e^{-i (\\omega + \\omega_d) t - i \\theta_d} \\right].\n",
    "$$\n",
    "\n",
    "This expression contains terms oscillating at $\\omega - \\omega_d$ (the detuning frequency) and terms oscillating at $\\omega + \\omega_d$.\n",
    "\n",
    "### 4. Apply the Rotating-Wave Approximation (RWA)\n",
    "\n",
    "Under the rotating-wave approximation, we ignore terms that oscillate rapidly (at frequencies $\\omega + \\omega_d$), as they average out over time. We keep only the terms oscillating at the detuning frequency $\\omega - \\omega_d$. Introducing the detuning $\\Delta = \\omega - \\omega_d$, we can write this as:\n",
    "\n",
    "$$\n",
    "\\hat{H}_{\\text{int}}(t) \\approx \\frac{\\hbar \\Omega_0}{4} \\left( \\hat{\\sigma}^+ e^{i \\Delta t - i \\theta_d} + \\hat{\\sigma}^- e^{-i \\Delta t + i \\theta_d} \\right).\n",
    "$$\n",
    "\n",
    "### 5. Write the Full Hamiltonian in the Rotating Frame\n",
    "\n",
    "The full Hamiltonian in the rotating frame includes a detuning term proportional to $\\hat{Z}$. Thus, we add this term to obtain the effective Hamiltonian $\\tilde{\\hat{H}}_R$ in the rotating frame:\n",
    "\n",
    "$$\n",
    "\\tilde{\\hat{H}}_R = \\frac{\\hbar}{2} \\Delta \\hat{Z} + \\frac{\\hbar}{4} \\Omega_0 \\left( e^{-i \\theta_d} \\hat{\\sigma}^+ + e^{i \\theta_d} \\hat{\\sigma}^- \\right).\n",
    "$$\n",
    "\n"
   ]
  },
  {
   "cell_type": "markdown",
   "metadata": {},
   "source": []
  }
 ],
 "metadata": {
  "language_info": {
   "name": "python"
  }
 },
 "nbformat": 4,
 "nbformat_minor": 2
}
