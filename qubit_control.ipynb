{
 "cells": [
  {
   "cell_type": "markdown",
   "metadata": {
    "vscode": {
     "languageId": "plaintext"
    }
   },
   "source": [
    "---\n",
    "\n",
    "# 18. Superconducting Qubits I: Quantizing a Harmonic Oscillator, Josephson Junctions - Part 3\n",
    "\n",
    "https://www.youtube.com/watch?v=hGBAz63NIH8&t=2435s"
   ]
  },
  {
   "cell_type": "markdown",
   "metadata": {},
   "source": [
    "## The Classical and Quantum Oscillator\n",
    "\n",
    "| **Classical**                                            | **Quantum**                                             |\n",
    "|----------------------------------------------------------|---------------------------------------------------------|\n",
    "| $$ \\Phi(t) $$                                            | $$ \\hat{\\Phi} $$                                        |\n",
    "| $$ Q(t) $$                                               | $$ \\hat{Q} $$                                           |\n",
    "| $$ \\mathcal{H}(\\Phi, Q) $$                               | $$ \\hat{H}(\\hat{\\Phi}, \\hat{Q}) $$                      |\n",
    "| $$ \\{ \\Phi, Q \\} = 1 $$                                  | $$ \\left[ \\hat{\\Phi}, \\hat{Q} \\right] = i \\hbar \\hat{1} $$ |\n",
    "| $$ \\{ \\alpha, \\alpha^* \\} = \\frac{1}{i \\hbar} $$         | $$ \\left[ \\hat{a}, \\hat{a}^\\dagger \\right] = \\hat{1} $$ |\n",
    "| $$ \\{ A, B \\} = \\frac{\\partial A}{\\partial \\Phi} \\frac{\\partial B}{\\partial Q} - \\frac{\\partial B}{\\partial \\Phi} \\frac{\\partial A}{\\partial Q} $$ | $$ \\left[ \\hat{A}, \\hat{B} \\right] = \\hat{A} \\hat{B} - \\hat{B} \\hat{A} $$ |\n"
   ]
  },
  {
   "cell_type": "markdown",
   "metadata": {
    "vscode": {
     "languageId": "plaintext"
    }
   },
   "source": [
    "## The Classical and Quantum Oscillator\n",
    "\n",
    "### Classical\n",
    "\n",
    "| **Hamiltonian**                                                                                         | **Phase Space**                                                                                         |\n",
    "|---------------------------------------------------------------------------------------------------------|---------------------------------------------------------------------------------------------------------|\n",
    "| $$ H = \\frac{Q^2}{2C} + \\frac{\\Phi^2}{2L} = \\frac{1}{2} \\hbar \\omega_0 \\left( \\alpha^* \\alpha + \\alpha \\alpha^* \\right) $$ | $$ \\alpha(t) = \\sqrt{\\frac{1}{2 \\hbar Z}} \\left( \\Phi(t) + i Z Q(t) \\right) $$                         |\n",
    "|                                                                                                         | $$ \\alpha(t) = \\alpha(0) e^{-i \\omega_0 t} $$                                                           |\n",
    "|                                                                                                         | $$ \\Phi(t) = \\sqrt{\\frac{\\hbar Z}{2}} \\left( \\alpha^*(t) + \\alpha(t) \\right) $$                        |\n",
    "|                                                                                                         | $$ Q(t) = i \\sqrt{\\frac{\\hbar}{2 Z}} \\left( \\alpha^*(t) - \\alpha(t) \\right) $$                         |\n",
    "\n",
    "### Quantum\n",
    "\n",
    "| **Hamiltonian**                                                                                         | **Phase Space**                                                                                         |\n",
    "|---------------------------------------------------------------------------------------------------------|---------------------------------------------------------------------------------------------------------|\n",
    "| $$ \\hat{H} = \\frac{\\hat{\\Phi}^2}{2L} + \\frac{\\hat{Q}^2}{2C} = \\hbar \\omega_0 \\left( \\hat{a}^\\dagger \\hat{a} + \\frac{1}{2} \\right) $$ | $$ \\hat{a} = \\sqrt{\\frac{1}{2 \\hbar Z}} \\left( \\hat{\\Phi} + i Z \\hat{Q} \\right) $$                       |\n",
    "|                                                                                                         | $$ \\hat{a}(t) = \\hat{a}(0) e^{-i \\omega_0 t} \\quad (\\text{Heisenberg picture}) $$                       |\n",
    "|                                                                                                         | $$ \\hat{\\Phi} = \\Phi_{\\text{ZPF}} (\\hat{a}^\\dagger + \\hat{a}) $$                                              |\n",
    "|                                                                                                         | $$ \\hat{Q} = i Q_{\\text{ZPF}} (\\hat{a}^\\dagger - \\hat{a}) $$                                            |\n"
   ]
  },
  {
   "cell_type": "markdown",
   "metadata": {},
   "source": [
    "---\n",
    "\n",
    "# 19. Superconducting Qubits II: Circuit Quantum Electrodynamics, Readout and Calibration Methods Pt 1\n",
    "\n",
    "https://www.youtube.com/watch?v=dmYnfGo-8eM"
   ]
  },
  {
   "cell_type": "markdown",
   "metadata": {
    "vscode": {
     "languageId": "plaintext"
    }
   },
   "source": [
    "## The LC Quantum Harmonic Oscillator\n",
    "\n",
    "| **Analogous Mechanical System**                                                                                       |\n",
    "|-----------------------------------------------------------------------------------------------------------------------|\n",
    "| Position: $ \\Phi \\rightarrow x $ <br> Mass: $ C \\rightarrow m $ <br> Momentum: $ Q \\rightarrow p $ <br> Spring constant: $ L^{-1} \\rightarrow k $ |\n",
    "\n",
    "&nbsp;\n",
    "\n",
    "| **Hamiltonian**                                                                                                       | **Energy Spectrum**                                                                                                   |\n",
    "|-----------------------------------------------------------------------------------------------------------------------|-----------------------------------------------------------------------------------------------------------------------|\n",
    "| $$ \\hat{H}(\\hat{\\Phi}, \\hat{Q}) = \\frac{\\hat{\\Phi}^2}{2L} + \\frac{\\hat{Q}^2}{2C} = \\hbar \\omega_0 \\left(\\hat{a}^\\dagger \\hat{a} + \\frac{1}{2}\\right) $$ | $$ \\hat{H} \\vert n\\rangle = \\hbar \\omega_0 \\left(n + \\frac{1}{2}\\right) \\vert n\\rangle $$                             |\n",
    "\n",
    "&nbsp;\n",
    "\n",
    "| **Resonant Frequency**                 | **Characteristic Impedance**               | **Inductive Energy**                                 | **Wavefunction**                             |\n",
    "|----------------------------------------|--------------------------------------------|------------------------------------------------------|----------------------------------------------|\n",
    "| $$ \\omega_0^2 = \\frac{1}{LC} $$        | $$ Z_0 = \\frac{L}{C} $$                    | $$ \\mathcal{E}_{\\text{ind}}(\\Phi) = \\frac{\\Phi^2}{2L} $$ | $$ \\psi_n(\\Phi) \\equiv \\langle \\Phi \\vert n \\rangle $$ |\n",
    "\n",
    "&nbsp;\n",
    "| **Operator Expressions**                              | **Zero-Point Fluctuation Amplitudes**         | **Expectation Values**                                    |\n",
    "|-------------------------------------------------------|-----------------------------------------------|----------------------------------------------------------|\n",
    "| $$ \\hat{\\Phi} = \\Phi_{\\text{ZPF}} \\left(\\hat{a}^\\dagger + \\hat{a}\\right) $$ | $$ \\Phi_{\\text{ZPF}} = \\sqrt{\\frac{\\hbar Z_0}{2}} $$ | $$ \\langle 0 \\vert \\hat{\\Phi}^2 \\vert 0 \\rangle = \\Phi_{\\text{ZPF}}^2 $$ |\n",
    "| $$ \\hat{Q} = i Q_{\\text{ZPF}} \\left(\\hat{a}^\\dagger - \\hat{a}\\right) $$    | $$ Q_{\\text{ZPF}} = \\sqrt{\\frac{\\hbar}{2 Z_0}} $$      | $$ \\langle 0 \\vert \\hat{Q}^2 \\vert 0 \\rangle = Q_{\\text{ZPF}}^2 $$       |\n"
   ]
  },
  {
   "cell_type": "markdown",
   "metadata": {
    "vscode": {
     "languageId": "plaintext"
    }
   },
   "source": [
    "---\n",
    "\n",
    "# 20. Superconducting Qubits II: Circuit Quantum Electrodynamics, Readout and Calibration Methods Pt 2\n",
    "\n",
    "https://www.youtube.com/watch?v=jUPAeOoZpEU"
   ]
  },
  {
   "cell_type": "markdown",
   "metadata": {},
   "source": []
  },
  {
   "cell_type": "markdown",
   "metadata": {
    "vscode": {
     "languageId": "plaintext"
    }
   },
   "source": [
    "\n",
    "$$\n",
    "\\hat{H} = \\frac{\\hat{Q}^2}{2C} - E_J \\cos \\left( \\frac{\\hat{\\Phi}}{\\phi_0} \\right)\n",
    "$$\n",
    "\n",
    "$$\n",
    "\\approx \\frac{\\hat{Q}^2}{2C} + \\frac{\\hat{\\Phi}^2}{2L_J} - \\frac{E_J}{4!} \\left( \\frac{\\hat{\\Phi}}{\\phi_0} \\right)^4\n",
    "$$\n",
    "\n",
    "$$\n",
    "= \\hbar \\omega_0 \\hat{a}^\\dagger \\hat{a} - \\frac{E_J \\phi_{ZPF}^4}{4!} \\left( \\hat{a} + \\hat{a}^\\dagger \\right)^4\n",
    "$$\n"
   ]
  },
  {
   "cell_type": "markdown",
   "metadata": {},
   "source": [
    "## Qubit Hamiltonian\n",
    "\n",
    "$\\hat{H}_4^{\\text{RWA}} \\approx \\hbar \\omega_q \\hat{N} - \\frac{\\hbar \\alpha}{2} \\hat{N} \\left( \\hat{N} - 1 \\right)$\n",
    "\n",
    "$\\hat{N} \\equiv \\hat{a}^\\dagger \\hat{a}$\n",
    "\n",
    "**Restrict to qubit subspace of** $|0\\rangle$ **and** $|1\\rangle$\n",
    "\n",
    "$\\left( \\hat{N} - \\frac{1}{2} I \\right) \\rightarrow -\\frac{1}{2} \\hat{Z}$\n",
    "\n",
    "$\\hat{a} \\rightarrow \\hat{\\sigma}_- = \\frac{1}{2} \\left( \\hat{X} - i \\hat{Y} \\right)$\n",
    "\n",
    "| **Fock number operator**           | **Qubit Pauli Z operator**      | **Qubit Pauli X and Y operators**                  |\n",
    "|------------------------------------|---------------------------------|----------------------------------------------------|\n",
    "| $\\begin{pmatrix} 1 & 0 \\\\ 0 & 2 \\end{pmatrix}$ | $\\begin{pmatrix} 1 & 0 \\\\ 0 & -1 \\end{pmatrix}$ | $\\begin{pmatrix} 0 & 1 \\\\ 1 & 0 \\end{pmatrix}$, $\\begin{pmatrix} 0 & -i \\\\ i & 0 \\end{pmatrix}$ |\n"
   ]
  },
  {
   "cell_type": "markdown",
   "metadata": {
    "vscode": {
     "languageId": "plaintext"
    }
   },
   "source": [
    "---\n",
    "\n",
    "# 21. Superconducting Qubits II: Circuit Quantum Electrodynamics, Readout and Calibration Methods Pt 3\n",
    "\n",
    "https://www.youtube.com/watch?v=_IpCwMvc0dA"
   ]
  },
  {
   "cell_type": "markdown",
   "metadata": {
    "vscode": {
     "languageId": "plaintext"
    }
   },
   "source": [
    "## Drive Hamiltonian\n",
    "\n",
    "$$\n",
    "\\hat{H}_{\\text{drive}} = -i \\frac{1}{2} \\Omega(t) \\left( \\hat{a}^\\dagger - \\hat{a} \\right) \\rightarrow \\frac{1}{2} \\Omega(t) \\hat{Y}\n",
    "$$\n"
   ]
  },
  {
   "cell_type": "markdown",
   "metadata": {},
   "source": []
  }
 ],
 "metadata": {
  "language_info": {
   "name": "python"
  }
 },
 "nbformat": 4,
 "nbformat_minor": 2
}
