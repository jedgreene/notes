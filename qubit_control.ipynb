{
 "cells": [
  {
   "cell_type": "markdown",
   "metadata": {
    "vscode": {
     "languageId": "plaintext"
    }
   },
   "source": [
    "---\n",
    "\n",
    "# 18. Superconducting Qubits I: Quantizing a Harmonic Oscillator, Josephson Junctions - Part 3\n",
    "\n",
    "https://www.youtube.com/watch?v=hGBAz63NIH8&t=2435s"
   ]
  },
  {
   "cell_type": "markdown",
   "metadata": {},
   "source": [
    "## The Classical and Quantum Oscillator\n",
    "\n",
    "| **Classical**                                            | **Quantum**                                             |\n",
    "|----------------------------------------------------------|---------------------------------------------------------|\n",
    "| $$ \\Phi(t) $$                                            | $$ \\hat{\\Phi} $$                                        |\n",
    "| $$ Q(t) $$                                               | $$ \\hat{Q} $$                                           |\n",
    "| $$ \\mathcal{H}(\\Phi, Q) $$                               | $$ \\hat{H}(\\hat{\\Phi}, \\hat{Q}) $$                      |\n",
    "| $$ \\{ \\Phi, Q \\} = 1 $$                                  | $$ \\left[ \\hat{\\Phi}, \\hat{Q} \\right] = i \\hbar \\hat{1} $$ |\n",
    "| $$ \\{ \\alpha, \\alpha^* \\} = \\frac{1}{i \\hbar} $$         | $$ \\left[ \\hat{a}, \\hat{a}^\\dagger \\right] = \\hat{1} $$ |\n",
    "| $$ \\{ A, B \\} = \\frac{\\partial A}{\\partial \\Phi} \\frac{\\partial B}{\\partial Q} - \\frac{\\partial B}{\\partial \\Phi} \\frac{\\partial A}{\\partial Q} $$ | $$ \\left[ \\hat{A}, \\hat{B} \\right] = \\hat{A} \\hat{B} - \\hat{B} \\hat{A} $$ |\n"
   ]
  },
  {
   "cell_type": "markdown",
   "metadata": {
    "vscode": {
     "languageId": "plaintext"
    }
   },
   "source": [
    "## The Classical and Quantum Oscillator\n",
    "\n",
    "### Classical\n",
    "\n",
    "| **Hamiltonian**                                                                                         | **Phase Space**                                                                                         |\n",
    "|---------------------------------------------------------------------------------------------------------|---------------------------------------------------------------------------------------------------------|\n",
    "| $$ H = \\frac{Q^2}{2C} + \\frac{\\Phi^2}{2L} = \\frac{1}{2} \\hbar \\omega_0 \\left( \\alpha^* \\alpha + \\alpha \\alpha^* \\right) $$ | $$ \\alpha(t) = \\sqrt{\\frac{1}{2 \\hbar Z}} \\left( \\Phi(t) + i Z Q(t) \\right) $$                         |\n",
    "|                                                                                                         | $$ \\alpha(t) = \\alpha(0) e^{-i \\omega_0 t} $$                                                           |\n",
    "|                                                                                                         | $$ \\Phi(t) = \\sqrt{\\frac{\\hbar Z}{2}} \\left( \\alpha^*(t) + \\alpha(t) \\right) $$                        |\n",
    "|                                                                                                         | $$ Q(t) = i \\sqrt{\\frac{\\hbar}{2 Z}} \\left( \\alpha^*(t) - \\alpha(t) \\right) $$                         |\n",
    "\n",
    "### Quantum\n",
    "\n",
    "| **Hamiltonian**                                                                                         | **Phase Space**                                                                                         |\n",
    "|---------------------------------------------------------------------------------------------------------|---------------------------------------------------------------------------------------------------------|\n",
    "| $$ \\hat{H} = \\frac{\\hat{\\Phi}^2}{2L} + \\frac{\\hat{Q}^2}{2C} = \\hbar \\omega_0 \\left( \\hat{a}^\\dagger \\hat{a} + \\frac{1}{2} \\right) $$ | $$ \\hat{a} = \\sqrt{\\frac{1}{2 \\hbar Z}} \\left( \\hat{\\Phi} + i Z \\hat{Q} \\right) $$                       |\n",
    "|                                                                                                         | $$ \\hat{a}(t) = \\hat{a}(0) e^{-i \\omega_0 t} \\quad (\\text{Heisenberg picture}) $$                       |\n",
    "|                                                                                                         | $$ \\hat{\\Phi} = \\Phi_{\\text{ZPF}} (\\hat{a}^\\dagger + \\hat{a}) $$                                              |\n",
    "|                                                                                                         | $$ \\hat{Q} = i Q_{\\text{ZPF}} (\\hat{a}^\\dagger - \\hat{a}) $$                                            |\n"
   ]
  },
  {
   "cell_type": "markdown",
   "metadata": {},
   "source": [
    "---\n",
    "\n",
    "# 19. Superconducting Qubits II: Circuit Quantum Electrodynamics, Readout and Calibration Methods Pt 1\n",
    "\n",
    "https://www.youtube.com/watch?v=dmYnfGo-8eM"
   ]
  },
  {
   "cell_type": "markdown",
   "metadata": {
    "vscode": {
     "languageId": "plaintext"
    }
   },
   "source": [
    "## The LC Quantum Harmonic Oscillator\n",
    "\n",
    "| **Analogous Mechanical System**                                                                                       |\n",
    "|-----------------------------------------------------------------------------------------------------------------------|\n",
    "| Position: $ \\Phi \\rightarrow x $ <br> Mass: $ C \\rightarrow m $ <br> Momentum: $ Q \\rightarrow p $ <br> Spring constant: $ L^{-1} \\rightarrow k $ |\n",
    "\n",
    "&nbsp;\n",
    "\n",
    "| **Hamiltonian**                                                                                                       | **Energy Spectrum**                                                                                                   |\n",
    "|-----------------------------------------------------------------------------------------------------------------------|-----------------------------------------------------------------------------------------------------------------------|\n",
    "| $$ \\hat{H}(\\hat{\\Phi}, \\hat{Q}) = \\frac{\\hat{\\Phi}^2}{2L} + \\frac{\\hat{Q}^2}{2C} = \\hbar \\omega_0 \\left(\\hat{a}^\\dagger \\hat{a} + \\frac{1}{2}\\right) $$ | $$ \\hat{H} \\vert n\\rangle = \\hbar \\omega_0 \\left(n + \\frac{1}{2}\\right) \\vert n\\rangle $$                             |\n",
    "\n",
    "&nbsp;\n",
    "\n",
    "| **Resonant Frequency**                 | **Characteristic Impedance**               | **Inductive Energy**                                 | **Wavefunction**                             |\n",
    "|----------------------------------------|--------------------------------------------|------------------------------------------------------|----------------------------------------------|\n",
    "| $$ \\omega_0^2 = \\frac{1}{LC} $$        | $$ Z_0 = \\frac{L}{C} $$                    | $$ \\mathcal{E}_{\\text{ind}}(\\Phi) = \\frac{\\Phi^2}{2L} $$ | $$ \\psi_n(\\Phi) \\equiv \\langle \\Phi \\vert n \\rangle $$ |\n",
    "\n",
    "&nbsp;\n",
    "| **Operator Expressions**                              | **Zero-Point Fluctuation Amplitudes**         | **Expectation Values**                                    |\n",
    "|-------------------------------------------------------|-----------------------------------------------|----------------------------------------------------------|\n",
    "| $$ \\hat{\\Phi} = \\Phi_{\\text{ZPF}} \\left(\\hat{a}^\\dagger + \\hat{a}\\right) $$ | $$ \\Phi_{\\text{ZPF}} = \\sqrt{\\frac{\\hbar Z_0}{2}} $$ | $$ \\langle 0 \\vert \\hat{\\Phi}^2 \\vert 0 \\rangle = \\Phi_{\\text{ZPF}}^2 $$ |\n",
    "| $$ \\hat{Q} = i Q_{\\text{ZPF}} \\left(\\hat{a}^\\dagger - \\hat{a}\\right) $$    | $$ Q_{\\text{ZPF}} = \\sqrt{\\frac{\\hbar}{2 Z_0}} $$      | $$ \\langle 0 \\vert \\hat{Q}^2 \\vert 0 \\rangle = Q_{\\text{ZPF}}^2 $$       |\n"
   ]
  },
  {
   "cell_type": "markdown",
   "metadata": {
    "vscode": {
     "languageId": "plaintext"
    }
   },
   "source": [
    "---\n",
    "\n",
    "# 20. Superconducting Qubits II: Circuit Quantum Electrodynamics, Readout and Calibration Methods Pt 2\n",
    "\n",
    "https://www.youtube.com/watch?v=jUPAeOoZpEU"
   ]
  },
  {
   "cell_type": "markdown",
   "metadata": {},
   "source": []
  },
  {
   "cell_type": "markdown",
   "metadata": {
    "vscode": {
     "languageId": "plaintext"
    }
   },
   "source": [
    "\n",
    "$$\n",
    "\\hat{H} = \\frac{\\hat{Q}^2}{2C} - E_J \\cos \\left( \\frac{\\hat{\\Phi}}{\\phi_0} \\right)\n",
    "$$\n",
    "\n",
    "$$\n",
    "\\approx \\frac{\\hat{Q}^2}{2C} + \\frac{\\hat{\\Phi}^2}{2L_J} - \\frac{E_J}{4!} \\left( \\frac{\\hat{\\Phi}}{\\phi_0} \\right)^4\n",
    "$$\n",
    "\n",
    "$$\n",
    "= \\hbar \\omega_0 \\hat{a}^\\dagger \\hat{a} - \\frac{E_J \\phi_{ZPF}^4}{4!} \\left( \\hat{a} + \\hat{a}^\\dagger \\right)^4\n",
    "$$\n"
   ]
  },
  {
   "cell_type": "markdown",
   "metadata": {},
   "source": [
    "## Qubit Hamiltonian\n",
    "\n",
    "$\\hat{H}_4^{\\text{RWA}} \\approx \\hbar \\omega_q \\hat{N} - \\frac{\\hbar \\alpha}{2} \\hat{N} \\left( \\hat{N} - 1 \\right)$\n",
    "\n",
    "$\\hat{N} \\equiv \\hat{a}^\\dagger \\hat{a}$\n",
    "\n",
    "**Restrict to qubit subspace of** $|0\\rangle$ **and** $|1\\rangle$\n",
    "\n",
    "$\\left( \\hat{N} - \\frac{1}{2} I \\right) \\rightarrow -\\frac{1}{2} \\hat{Z}$\n",
    "\n",
    "$\\hat{a} \\rightarrow \\hat{\\sigma}_- = \\frac{1}{2} \\left( \\hat{X} - i \\hat{Y} \\right)$\n",
    "\n",
    "| **Fock number operator**           | **Qubit Pauli Z operator**      | **Qubit Pauli X and Y operators**                  |\n",
    "|------------------------------------|---------------------------------|----------------------------------------------------|\n",
    "| $\\begin{pmatrix} 1 & 0 \\\\ 0 & 2 \\end{pmatrix}$ | $\\begin{pmatrix} 1 & 0 \\\\ 0 & -1 \\end{pmatrix}$ | $\\begin{pmatrix} 0 & 1 \\\\ 1 & 0 \\end{pmatrix}$, $\\begin{pmatrix} 0 & -i \\\\ i & 0 \\end{pmatrix}$ |\n"
   ]
  },
  {
   "cell_type": "markdown",
   "metadata": {
    "vscode": {
     "languageId": "plaintext"
    }
   },
   "source": [
    "---\n",
    "\n",
    "# 21. Superconducting Qubits II: Circuit Quantum Electrodynamics, Readout and Calibration Methods Pt 3\n",
    "\n",
    "https://www.youtube.com/watch?v=_IpCwMvc0dA"
   ]
  },
  {
   "cell_type": "markdown",
   "metadata": {
    "vscode": {
     "languageId": "plaintext"
    }
   },
   "source": [
    "## Drive / Interaction Hamiltonian\n",
    "\n",
    "$$\n",
    "\\hat{H}_{\\text{drive}} = -i \\frac{1}{2} \\Omega(t) \\left( \\hat{a}^\\dagger - \\hat{a} \\right) \\rightarrow \\frac{1}{2} \\Omega(t) \\hat{Y}\n",
    "$$\n"
   ]
  },
  {
   "cell_type": "markdown",
   "metadata": {},
   "source": [
    "## Derivation of the Interaction Hamiltonian for a Transmon Qubit with an External Drive\n",
    "\n",
    "### 1. System Setup and Definitions\n",
    "\n",
    "We are analyzing a transmon qubit (a type of superconducting qubit) modeled as a nonlinear oscillator with inductance $L$ and capacitance $C$. In the absence of a drive, the Hamiltonian of the transmon oscillator is:\n",
    "\n",
    "$$\n",
    "H = \\frac{\\hat{\\Phi}^2}{2L} + \\frac{\\hat{Q}^2}{2C} = \\hbar \\omega_0 \\left( \\hat{a}^\\dagger \\hat{a} + \\frac{1}{2} \\right)\n",
    "$$\n",
    "\n",
    "where:\n",
    "- $\\omega_0 = \\frac{1}{\\sqrt{LC}}$ is the natural frequency of the oscillator,\n",
    "- $\\hat{\\Phi}$ is the flux operator,\n",
    "- $\\hat{Q}$ is the charge operator across the capacitor, which is conjugate to $\\hat{\\Phi}$,\n",
    "- $\\hat{a}$ and $\\hat{a}^\\dagger$ are the annihilation and creation operators for the oscillator mode.\n",
    "\n",
    "Using the zero-point fluctuation amplitudes $\\Phi_{\\text{ZPF}}$ and $Q_{\\text{ZPF}}$, we can write:\n",
    "\n",
    "$$\n",
    "\\hat{\\Phi} = \\Phi_{\\text{ZPF}} (\\hat{a} + \\hat{a}^\\dagger), \\quad \\hat{Q} = i Q_{\\text{ZPF}} (\\hat{a}^\\dagger - \\hat{a})\n",
    "$$\n",
    "\n",
    "where $Z = \\sqrt{L/C}$ is the characteristic impedance of the oscillator, and these amplitudes are related by:\n",
    "\n",
    "$$\n",
    "\\Phi_{\\text{ZPF}} = \\sqrt{\\frac{\\hbar Z}{2}}, \\quad Q_{\\text{ZPF}} = \\sqrt{\\frac{\\hbar}{2Z}}\n",
    "$$\n",
    "\n",
    "### 2. Interaction with an External Drive\n",
    "\n",
    "To control the transmon qubit, we apply an external drive field, modeled as a time-dependent voltage $V(t) = V_0 \\cos(\\omega_d t)$ across the qubit. This drive couples to the charge operator $\\hat{Q}$, resulting in the interaction Hamiltonian:\n",
    "\n",
    "$$\n",
    "H_{\\text{int}} = - \\hat{Q} V(t)\n",
    "$$\n",
    "\n",
    "Substituting $V(t) = V_0 \\cos(\\omega_d t)$ and using the expression for $\\hat{Q}$:\n",
    "\n",
    "$$\n",
    "H_{\\text{int}} = - i Q_{\\text{ZPF}} V_0 \\cos(\\omega_d t) (\\hat{a}^\\dagger - \\hat{a})\n",
    "$$\n",
    "\n",
    "### 3. Defining the Rabi Frequency $\\Omega(t)$\n",
    "\n",
    "We introduce the **Rabi frequency** $\\Omega(t)$ to parameterize the interaction strength. This is given by:\n",
    "\n",
    "$$\n",
    "\\Omega(t) = \\frac{2 Q_{\\text{ZPF}} V_0}{\\hbar}\n",
    "$$\n",
    "\n",
    "Substituting this definition into the interaction Hamiltonian gives:\n",
    "\n",
    "$$\n",
    "H_{\\text{int}} = - \\frac{i}{2} \\hbar \\Omega(t) \\cos(\\omega_d t) (\\hat{a}^\\dagger - \\hat{a})\n",
    "$$\n",
    "\n",
    "### 4. Expanding the Cosine Term\n",
    "\n",
    "Using the trigonometric identity for cosine:\n",
    "\n",
    "$$\n",
    "\\cos(\\omega_d t) = \\frac{1}{2} \\left( e^{i \\omega_d t} + e^{-i \\omega_d t} \\right)\n",
    "$$\n",
    "\n",
    "we can rewrite $H_{\\text{int}}$ as:\n",
    "\n",
    "$$\n",
    "H_{\\text{int}} = - \\frac{i}{4} \\hbar \\Omega(t) \\left( e^{i \\omega_d t} + e^{-i \\omega_d t} \\right) (\\hat{a}^\\dagger - \\hat{a})\n",
    "$$\n",
    "\n",
    "Expanding this expression yields two terms:\n",
    "\n",
    "$$\n",
    "H_{\\text{int}} = - \\frac{i}{4} \\hbar \\Omega(t) \\left( e^{i \\omega_d t} (\\hat{a}^\\dagger - \\hat{a}) + e^{-i \\omega_d t} (\\hat{a}^\\dagger - \\hat{a}) \\right)\n",
    "$$\n",
    "\n",
    "### 5. Moving to the Rotating Frame\n",
    "\n",
    "To simplify this, we move to the **rotating frame** of the drive frequency $\\omega_d$. This means we transform the system into a reference frame that oscillates at $\\omega_d$, effectively shifting the frequency components by $\\omega_d$. Mathematically, this transformation makes terms that oscillate at $\\omega_d$ or $\\omega_d - \\omega_0$ appear as stationary or slowly oscillating terms in the new frame.\n",
    "\n",
    "### 6. Applying the Rotating Wave Approximation (RWA)\n",
    "\n",
    "In the rotating frame, terms that oscillate at frequencies much higher than the drive frequency (such as those oscillating at $\\pm 2\\omega_d$) average out over time and have minimal effect on the dynamics we’re interested in. The **rotating wave approximation** (RWA) allows us to neglect these fast-oscillating terms, leaving only the terms that oscillate slowly or are close to resonant with the qubit’s natural frequency.\n",
    "\n",
    "Applying the RWA, we discard terms oscillating at $2\\omega_d$ and retain only the near-resonant terms. This simplifies the interaction Hamiltonian to:\n",
    "\n",
    "$$\n",
    "H_{\\text{int}} \\approx - \\frac{i}{2} \\hbar \\Omega(t) (\\hat{a}^\\dagger - \\hat{a})\n",
    "$$\n",
    "\n",
    "### 7. Mapping to the Qubit (Two-Level) Approximation\n",
    "\n",
    "In a transmon qubit, we typically operate in the two lowest energy levels (ground and first excited states). In this **two-level approximation**, we map the oscillator operators $\\hat{a}$ and $\\hat{a}^\\dagger$ to qubit raising and lowering operators:\n",
    "\n",
    "$$\n",
    "\\hat{a} \\rightarrow \\sigma^-, \\quad \\hat{a}^\\dagger \\rightarrow \\sigma^+\n",
    "$$\n",
    "\n",
    "where $\\sigma^+ = |1\\rangle \\langle 0|$ and $\\sigma^- = |0\\rangle \\langle 1|$ are the Pauli raising and lowering operators for the qubit states. Thus, we get:\n",
    "\n",
    "$$\n",
    "\\hat{a}^\\dagger - \\hat{a} = i Y\n",
    "$$\n",
    "\n",
    "where $Y$ is the Pauli $Y$ matrix. Substituting this into $H_{\\text{int}}$, we obtain the final form of the interaction Hamiltonian:\n",
    "\n",
    "$$\n",
    "H_{\\text{int}} = - \\frac{1}{2} \\hbar \\Omega(t) Y\n",
    "$$\n",
    "\n",
    "### Final Result\n",
    "\n",
    "The final interaction Hamiltonian describes the coupling between the transmon qubit and the external drive field, enabling coherent qubit control:\n",
    "\n",
    "$$\n",
    "H_{\\text{int}} = - \\frac{1}{2} \\hbar \\Omega(t) Y\n",
    "$$\n",
    "\n",
    "This Hamiltonian represents a resonant interaction where the drive field can induce transitions between the ground and excited states of the qubit with a Rabi frequency $\\Omega(t)$ that depends on the drive strength.\n",
    "\n",
    "### Summary\n",
    "\n",
    "- **Rotating Frame**: We move to a frame rotating at the drive frequency $\\omega_d$, making near-resonant terms appear slowly oscillating and easier to analyze.\n",
    "- **Rotating Wave Approximation (RWA)**: We discard fast-oscillating terms, focusing only on the near-resonant terms that effectively drive the qubit transitions.\n",
    "- **Final Interaction Hamiltonian**: In the two-level approximation, the interaction Hamiltonian simplifies to:\n",
    "  $$\n",
    "  H_{\\text{int}} = - \\frac{1}{2} \\hbar \\Omega(t) Y\n",
    "  $$\n",
    "\n",
    "This interaction Hamiltonian is crucial in describing how a drive field can coherently control a transmon qubit by inducing Rabi oscillations between its ground and excited states."
   ]
  },
  {
   "cell_type": "markdown",
   "metadata": {},
   "source": []
  }
 ],
 "metadata": {
  "language_info": {
   "name": "python"
  }
 },
 "nbformat": 4,
 "nbformat_minor": 2
}
