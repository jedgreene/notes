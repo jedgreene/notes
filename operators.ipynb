{
 "cells": [
  {
   "cell_type": "markdown",
   "metadata": {},
   "source": [
    "# Raising and Lowering Operators\n",
    "\n",
    "| **Operator**       | **General System**                                 | **Qubit System**                               | **Qubit Matrix Representation**                       | **Eigenvalues** |\n",
    "|--------------------|----------------------------------------------------|------------------------------------------------|-------------------------------------------------------|-----------------|\n",
    "| **Lowering**       | $ a $                                              | $ \\sigma^- $                                   | $ \\begin{pmatrix} 0 & 0 \\\\ 1 & 0 \\end{pmatrix} $     | -               |\n",
    "| **Raising**        | $ a^\\dagger $                                      | $ \\sigma^+ $                                   | $ \\begin{pmatrix} 0 & 1 \\\\ 0 & 0 \\end{pmatrix} $     | -               |\n",
    "| **Position**       | $ \\hat{X} = \\frac{a + a^\\dagger}{\\sqrt{2}} $       | $ \\sigma_x = \\sigma^+ + \\sigma^- $             | $ \\begin{pmatrix} 0 & 1 \\\\ 1 & 0 \\end{pmatrix} $     | $ \\pm 1 $       |\n",
    "| **Momentum**       | $ \\hat{Y} = \\frac{a - a^\\dagger}{\\sqrt{2}i} $      | $ \\sigma_y = -i(\\sigma^+ - \\sigma^-) $         | $ \\begin{pmatrix} 0 & -i \\\\ i & 0 \\end{pmatrix} $    | $ \\pm 1 $       |\n",
    "| **Spin (z-axis)**  | -                                                  | $ \\sigma_z $                                   | $ \\begin{pmatrix} 1 & 0 \\\\ 0 & -1 \\end{pmatrix} $    | $ \\pm 1 $       |\n",
    "| **Commutation**    | $ [a, a^\\dagger] = 1 $, $ [\\hat{X}, \\hat{Y}] = i $ | $ [\\sigma^-, \\sigma^+] = \\sigma_z $  | -                                                     | -               |\n"
   ]
  },
  {
   "cell_type": "markdown",
   "metadata": {
    "vscode": {
     "languageId": "plaintext"
    }
   },
   "source": [
    "# Pauli Matrices\n",
    "\n",
    "| **Property**                         | **Expression**                                                                                         | **Description**                                                                                                       |\n",
    "|--------------------------------------|-------------------------------------------------------------------------------------------------------|-----------------------------------------------------------------------------------------------------------------------|\n",
    "| **Pauli-X Matrix ($\\sigma_x$)**    | $\\sigma_x = \\begin{pmatrix} 0 & 1 \\\\ 1 & 0 \\end{pmatrix}$                                         | **Eigenvalues**: $\\pm 1$, **Eigenvectors**: $\\frac{1}{\\sqrt{2}} \\begin{pmatrix} 1 \\\\ 1 \\end{pmatrix}$, $\\frac{1}{\\sqrt{2}} \\begin{pmatrix} 1 \\\\ -1 \\end{pmatrix}$ |\n",
    "| **Pauli-Y Matrix ($\\sigma_y$)**    | $\\sigma_y = \\begin{pmatrix} 0 & -i \\\\ i & 0 \\end{pmatrix}$                                        | **Eigenvalues**: $\\pm 1$, **Eigenvectors**: $\\frac{1}{\\sqrt{2}} \\begin{pmatrix} 1 \\\\ i \\end{pmatrix}$, $\\frac{1}{\\sqrt{2}} \\begin{pmatrix} 1 \\\\ -i \\end{pmatrix}$ |\n",
    "| **Pauli-Z Matrix ($\\sigma_z$)**    | $\\sigma_z = \\begin{pmatrix} 1 & 0 \\\\ 0 & -1 \\end{pmatrix}$                                        | **Eigenvalues**: $\\pm 1$, **Eigenvectors**: $\\begin{pmatrix} 1 \\\\ 0 \\end{pmatrix}$, $\\begin{pmatrix} 0 \\\\ 1 \\end{pmatrix}$ |\n",
    "| **Square of Each Pauli Matrix**      | $\\sigma_x^2 = \\sigma_y^2 = \\sigma_z^2 = I$                                                        | Each Pauli matrix squares to the identity matrix.                                                                     |\n",
    "| **Anticommutation Relations**        | $\\{ \\sigma_i, \\sigma_j \\} = 2 \\delta_{ij} I$                                                      | Pauli matrices satisfy anticommutation: $\\{ \\sigma_i, \\sigma_j \\} = 2 \\delta_{ij} I$.                            |\n",
    "| **Commutation Relations**            | $[\\sigma_i, \\sigma_j] = 2 i \\epsilon_{ijk} \\sigma_k$                                              | Pauli matrices satisfy commutation: $[\\sigma_i, \\sigma_j] = 2 i \\epsilon_{ijk} \\sigma_k$.                         |\n",
    "| **Product of Different Pauli Matrices** | $\\sigma_x \\sigma_y = i \\sigma_z$, $\\sigma_y \\sigma_z = i \\sigma_x$, $\\sigma_z \\sigma_x = i \\sigma_y$ | The product of two different Pauli matrices yields $\\pm i$ times the third Pauli matrix. Reversing the order changes the sign. |\n",
    "| **Trace of Each Pauli Matrix**       | $\\text{Tr}(\\sigma_x) = \\text{Tr}(\\sigma_y) = \\text{Tr}(\\sigma_z) = 0$                              | Each Pauli matrix is traceless.                                                                                       |\n",
    "| **Determinant of Each Pauli Matrix** | $\\det(\\sigma_x) = \\det(\\sigma_y) = \\det(\\sigma_z) = -1$                                           | Each Pauli matrix has a determinant of $-1$.                                                                        |\n",
    "| **Pauli Matrix Exponential**         | $e^{i \\theta \\sigma} = \\cos\\left(\\frac{\\theta}{2}\\right) I + i \\sin\\left(\\frac{\\theta}{2}\\right) \\sigma$ | Represents rotations around the axis of the Pauli matrix by angle $\\theta$.                                        |\n",
    "| **Completeness Relation**            | $M = a I + b_x \\sigma_x + b_y \\sigma_y + b_z \\sigma_z$                                            | Any $2 \\times 2$ Hermitian matrix can be expressed as a linear combination of Pauli matrices.                       |\n"
   ]
  },
  {
   "cell_type": "markdown",
   "metadata": {},
   "source": []
  }
 ],
 "metadata": {
  "language_info": {
   "name": "python"
  }
 },
 "nbformat": 4,
 "nbformat_minor": 2
}
