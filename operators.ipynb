{
 "cells": [
  {
   "cell_type": "markdown",
   "metadata": {},
   "source": [
    "| **Operator**       | **Matrix Representation**                         | **Properties**                                              | **Relationships**                                    |\n",
    "|--------------------|----------------------------------------------------|-------------------------------------------------------------|-------------------------------------------------------|\n",
    "| $ \\sigma_x $       | $ \\begin{pmatrix} 0 & 1 \\\\ 1 & 0 \\end{pmatrix} $  | Hermitian, Unitary, Flips $ \\|0\\rangle $ and $ \\|1\\rangle $ | $ \\sigma_x^2 = I $, $ [\\sigma_x, \\sigma_y] = 2i\\sigma_z $ |\n",
    "| $ \\sigma_y $       | $ \\begin{pmatrix} 0 & -i \\\\ i & 0 \\end{pmatrix} $ | Hermitian, Unitary, Combines flip and phase change         | $ \\sigma_y^2 = I $, $ [\\sigma_y, \\sigma_z] = 2i\\sigma_x $ |\n",
    "| $ \\sigma_z $       | $ \\begin{pmatrix} 1 & 0 \\\\ 0 & -1 \\end{pmatrix} $ | Hermitian, Unitary, Phase flip                              | $ \\sigma_z^2 = I $, $ [\\sigma_z, \\sigma_x] = 2i\\sigma_y $ |\n",
    "| $ \\sigma^+ $ (raising) | $ \\begin{pmatrix} 0 & 1 \\\\ 0 & 0 \\end{pmatrix} $ | Not Hermitian, Transforms $ \\|0\\rangle \\rightarrow \\|1\\rangle $ | $ \\sigma^+ = \\frac{1}{2}(\\sigma_x + i\\sigma_y) $, $ [\\sigma_z, \\sigma^+] = 2\\sigma^+ $ |\n",
    "| $ \\sigma^- $ (lowering) | $ \\begin{pmatrix} 0 & 0 \\\\ 1 & 0 \\end{pmatrix} $ | Not Hermitian, Transforms $ \\|1\\rangle \\rightarrow \\|0\\rangle $ | $ \\sigma^- = \\frac{1}{2}(\\sigma_x - i\\sigma_y) $, $ [\\sigma_z, \\sigma^-] = -2\\sigma^- $ |\n"
   ]
  },
  {
   "cell_type": "markdown",
   "metadata": {},
   "source": [
    "# Raising and Lowering Operators\n",
    "\n",
    "| **Operator**       | **General System**                                 | **Qubit System**                               | **Qubit Matrix Representation**                       | **Eigenvalues** |\n",
    "|--------------------|----------------------------------------------------|------------------------------------------------|-------------------------------------------------------|-----------------|\n",
    "| **Lowering**       | $ a $                                              | $ \\sigma^- $                                   | $ \\begin{pmatrix} 0 & 0 \\\\ 1 & 0 \\end{pmatrix} $     | -               |\n",
    "| **Raising**        | $ a^\\dagger $                                      | $ \\sigma^+ $                                   | $ \\begin{pmatrix} 0 & 1 \\\\ 0 & 0 \\end{pmatrix} $     | -               |\n",
    "| **Position**       | $ \\hat{X} = \\frac{a + a^\\dagger}{\\sqrt{2}} $       | $ \\sigma_x = \\sigma^+ + \\sigma^- $             | $ \\begin{pmatrix} 0 & 1 \\\\ 1 & 0 \\end{pmatrix} $     | $ \\pm 1 $       |\n",
    "| **Momentum**       | $ \\hat{Y} = \\frac{a - a^\\dagger}{\\sqrt{2}i} $      | $ \\sigma_y = -i(\\sigma^+ - \\sigma^-) $         | $ \\begin{pmatrix} 0 & -i \\\\ i & 0 \\end{pmatrix} $    | $ \\pm 1 $       |\n",
    "| **Spin (z-axis)**  | -                                                  | $ \\sigma_z $                                   | $ \\begin{pmatrix} 1 & 0 \\\\ 0 & -1 \\end{pmatrix} $    | $ \\pm 1 $       |\n",
    "| **Commutation**    | $ [a, a^\\dagger] = 1 $, $ [\\hat{X}, \\hat{Y}] = i $ | $ [\\sigma^-, \\sigma^+] = \\sigma_z $  | -                                                     | -               |\n"
   ]
  },
  {
   "cell_type": "markdown",
   "metadata": {
    "vscode": {
     "languageId": "plaintext"
    }
   },
   "source": [
    "# Pauli Matrices\n",
    "\n",
    "| **Property**                         | **Expression**                                                                                         | **Description**                                                                                                       |\n",
    "|--------------------------------------|-------------------------------------------------------------------------------------------------------|-----------------------------------------------------------------------------------------------------------------------|\n",
    "| **Pauli-X Matrix ($\\sigma_x$)**    | $\\sigma_x = \\begin{pmatrix} 0 & 1 \\\\ 1 & 0 \\end{pmatrix}$                                         | **Eigenvalues**: $\\pm 1$, **Eigenvectors**: $\\frac{1}{\\sqrt{2}} \\begin{pmatrix} 1 \\\\ 1 \\end{pmatrix}$, $\\frac{1}{\\sqrt{2}} \\begin{pmatrix} 1 \\\\ -1 \\end{pmatrix}$ |\n",
    "| **Pauli-Y Matrix ($\\sigma_y$)**    | $\\sigma_y = \\begin{pmatrix} 0 & -i \\\\ i & 0 \\end{pmatrix}$                                        | **Eigenvalues**: $\\pm 1$, **Eigenvectors**: $\\frac{1}{\\sqrt{2}} \\begin{pmatrix} 1 \\\\ i \\end{pmatrix}$, $\\frac{1}{\\sqrt{2}} \\begin{pmatrix} 1 \\\\ -i \\end{pmatrix}$ |\n",
    "| **Pauli-Z Matrix ($\\sigma_z$)**    | $\\sigma_z = \\begin{pmatrix} 1 & 0 \\\\ 0 & -1 \\end{pmatrix}$                                        | **Eigenvalues**: $\\pm 1$, **Eigenvectors**: $\\begin{pmatrix} 1 \\\\ 0 \\end{pmatrix}$, $\\begin{pmatrix} 0 \\\\ 1 \\end{pmatrix}$ |\n",
    "| **Square of Each Pauli Matrix**      | $\\sigma_x^2 = \\sigma_y^2 = \\sigma_z^2 = I$                                                        | Each Pauli matrix squares to the identity matrix.                                                                     |\n",
    "| **Anticommutation Relations**        | $\\{ \\sigma_i, \\sigma_j \\} = 2 \\delta_{ij} I$                                                      | Pauli matrices satisfy anticommutation: $\\{ \\sigma_i, \\sigma_j \\} = 2 \\delta_{ij} I$.                            |\n",
    "| **Commutation Relations**            | $[\\sigma_i, \\sigma_j] = 2 i \\epsilon_{ijk} \\sigma_k$                                              | Pauli matrices satisfy commutation: $[\\sigma_i, \\sigma_j] = 2 i \\epsilon_{ijk} \\sigma_k$.                         |\n",
    "| **Product of Different Pauli Matrices** | $\\sigma_x \\sigma_y = i \\sigma_z$, $\\sigma_y \\sigma_z = i \\sigma_x$, $\\sigma_z \\sigma_x = i \\sigma_y$ | The product of two different Pauli matrices yields $\\pm i$ times the third Pauli matrix. Reversing the order changes the sign. |\n",
    "| **Trace of Each Pauli Matrix**       | $\\text{Tr}(\\sigma_x) = \\text{Tr}(\\sigma_y) = \\text{Tr}(\\sigma_z) = 0$                              | Each Pauli matrix is traceless.                                                                                       |\n",
    "| **Determinant of Each Pauli Matrix** | $\\det(\\sigma_x) = \\det(\\sigma_y) = \\det(\\sigma_z) = -1$                                           | Each Pauli matrix has a determinant of $-1$.                                                                        |\n",
    "| **Pauli Matrix Exponential**         | $e^{i \\theta \\sigma} = \\cos\\left(\\frac{\\theta}{2}\\right) I + i \\sin\\left(\\frac{\\theta}{2}\\right) \\sigma$ | Represents rotations around the axis of the Pauli matrix by angle $\\theta$.                                        |\n",
    "| **Completeness Relation**            | $M = a I + b_x \\sigma_x + b_y \\sigma_y + b_z \\sigma_z$                                            | Any $2 \\times 2$ Hermitian matrix can be expressed as a linear combination of Pauli matrices.                       |\n"
   ]
  },
  {
   "cell_type": "markdown",
   "metadata": {},
   "source": [
    "# Rotations and Conjugations\n",
    "\n",
    "| Expression                                         | Identity                                       | Rotation Effect                    |\n",
    "|----------------------------------------------------|------------------------------------------------|------------------------------------|\n",
    "| $ e^{i \\theta \\sigma_z} \\, \\sigma_x \\, e^{-i \\theta \\sigma_z} $ | $ \\cos(2\\theta) \\sigma_x + \\sin(2\\theta) \\sigma_y $ | Rotates $ \\sigma_x $ around the $ z $-axis |\n",
    "| $ e^{i \\theta \\sigma_z} \\, \\sigma_y \\, e^{-i \\theta \\sigma_z} $ | $ \\cos(2\\theta) \\sigma_y - \\sin(2\\theta) \\sigma_x $ | Rotates $ \\sigma_y $ around the $ z $-axis |\n",
    "| $ e^{i \\theta \\sigma_y} \\, \\sigma_x \\, e^{-i \\theta \\sigma_y} $ | $ \\cos(2\\theta) \\sigma_x - \\sin(2\\theta) \\sigma_z $ | Rotates $ \\sigma_x $ around the $ y $-axis |\n",
    "| $ e^{i \\theta \\sigma_y} \\, \\sigma_z \\, e^{-i \\theta \\sigma_y} $ | $ \\cos(2\\theta) \\sigma_z + \\sin(2\\theta) \\sigma_x $ | Rotates $ \\sigma_z $ around the $ y $-axis |\n",
    "| $ e^{i \\theta \\sigma_x} \\, \\sigma_y \\, e^{-i \\theta \\sigma_x} $ | $ \\cos(2\\theta) \\sigma_y + \\sin(2\\theta) \\sigma_z $ | Rotates $ \\sigma_y $ around the $ x $-axis |\n",
    "| $ e^{i \\theta \\sigma_x} \\, \\sigma_z \\, e^{-i \\theta \\sigma_x} $ | $ \\cos(2\\theta) \\sigma_z - \\sin(2\\theta) \\sigma_y $ | Rotates $ \\sigma_z $ around the $ x $-axis |\n",
    "| $ e^{i \\theta \\sigma_z} \\, \\sigma_z \\, e^{-i \\theta \\sigma_z} $ | $ \\sigma_z $ | $ \\sigma_z $ remains unchanged |\n",
    "| $ e^{i \\theta \\sigma_y} \\, \\sigma_y \\, e^{-i \\theta \\sigma_y} $ | $ \\sigma_y $ | $ \\sigma_y $ remains unchanged |\n",
    "| $ e^{i \\theta \\sigma_x} \\, \\sigma_x \\, e^{-i \\theta \\sigma_x} $ | $ \\sigma_x $ | $ \\sigma_x $ remains unchanged |\n",
    "| $ e^{i \\theta \\sigma_z} \\, \\sigma^+ \\, e^{-i \\theta \\sigma_z} $ | $ e^{i 2 \\theta} \\sigma^+ $ | Raises with phase $ e^{i 2\\theta} $ |\n",
    "| $ e^{i \\theta \\sigma_z} \\, \\sigma^- \\, e^{-i \\theta \\sigma_z} $ | $ e^{-i 2 \\theta} \\sigma^- $ | Lowers with phase $ e^{-i 2\\theta} $ |\n"
   ]
  },
  {
   "cell_type": "markdown",
   "metadata": {
    "vscode": {
     "languageId": "plaintext"
    }
   },
   "source": [
    "# Rotation Operators\n",
    "\n",
    "| Rotation Operator     | General Form                                                        | $ \\theta = \\frac{\\pi}{2} $                              | $ \\theta = \\pi $                                 |\n",
    "|-----------------------|--------------------------------------------------------------------|-----------------------------------------------------------|----------------------------------------------------|\n",
    "| **$ R_X(\\theta) $** | $$ R_X(\\theta) = \\begin{pmatrix} \\cos \\frac{\\theta}{2} & -i \\sin \\frac{\\theta}{2} \\\\ -i \\sin \\frac{\\theta}{2} & \\cos \\frac{\\theta}{2} \\end{pmatrix} $$ | $$ R_X\\left(\\frac{\\pi}{2}\\right) = \\frac{1}{\\sqrt{2}} \\begin{pmatrix} 1 & -i \\\\ -i & 1 \\end{pmatrix} $$ | $$ R_X(\\pi) = \\begin{pmatrix} 0 & -i \\\\ -i & 0 \\end{pmatrix} $$ |\n",
    "| **$ R_Y(\\theta) $** | $$ R_Y(\\theta) = \\begin{pmatrix} \\cos \\frac{\\theta}{2} & -\\sin \\frac{\\theta}{2} \\\\ \\sin \\frac{\\theta}{2} & \\cos \\frac{\\theta}{2} \\end{pmatrix} $$   | $$ R_Y\\left(\\frac{\\pi}{2}\\right) = \\frac{1}{\\sqrt{2}} \\begin{pmatrix} 1 & -1 \\\\ 1 & 1 \\end{pmatrix} $$  | $$ R_Y(\\pi) = \\begin{pmatrix} 0 & -1 \\\\ 1 & 0 \\end{pmatrix} $$   |\n",
    "| **$ R_Z(\\theta) $** | $$ R_Z(\\theta) = \\begin{pmatrix} 1 & 0 \\\\ 0 & e^{i \\theta} \\end{pmatrix} $$                                       | $$ R_Z\\left(\\frac{\\pi}{2}\\right) = \\begin{pmatrix} 1 & 0 \\\\ 0 & i \\end{pmatrix} $$                      | $$ R_Z(\\pi) = \\begin{pmatrix} 1 & 0 \\\\ 0 & -1 \\end{pmatrix} $$   |\n",
    "\n",
    "### Explanation of Each Operator\n",
    "- **$ R_X(\\theta) $**: Rotates the state by $ \\theta $ radians around the $ X $-axis. It changes the phase symmetrically for both $ |0\\rangle $ and $ |1\\rangle $ states in a complex manner.\n",
    "- **$ R_Y(\\theta) $**: Rotates the state by $ \\theta $ radians around the $ Y $-axis. This rotation affects both $ |0\\rangle $ and $ |1\\rangle $ states without complex phases (involving only real values).\n",
    "- **$ R_Z(\\theta) $**: Rotates the state by $ \\theta $ radians around the $ Z $-axis. This rotation only affects the phase of the $ |1\\rangle $ state while leaving $ |0\\rangle $ unchanged."
   ]
  },
  {
   "cell_type": "markdown",
   "metadata": {},
   "source": [
    "# Rotations on x, y, and z\n",
    "| Initial Axis Direction and State         | Rotation Axis by Angle  | Resulting Axis Direction and State                        |\n",
    "|------------------------------------------|--------------------------|----------------------------------------------------------|\n",
    "| z = $\\lvert 0 \\rangle$                   | x by $\\pi/2$            | -y = $\\frac{\\lvert 0 \\rangle - i \\lvert 1 \\rangle}{\\sqrt{2}}$ |\n",
    "| z = $\\lvert 0 \\rangle$                   | y by $\\pi/2$            | x = $\\lvert + \\rangle$                                   |\n",
    "| x = $\\lvert + \\rangle$                   | z by $\\pi/2$            | y = $\\frac{\\lvert 0 \\rangle + i \\lvert 1 \\rangle}{\\sqrt{2}}$ |\n",
    "| x = $\\lvert + \\rangle$                   | y by $\\pi/2$            | -z = $\\lvert 1 \\rangle$                                  |\n",
    "| y = $\\frac{\\lvert 0 \\rangle + i \\lvert 1 \\rangle}{\\sqrt{2}}$ | z by $\\pi/2$ | -x = $\\lvert - \\rangle$ |\n",
    "| y = $\\frac{\\lvert 0 \\rangle + i \\lvert 1 \\rangle}{\\sqrt{2}}$ | x by $\\pi/2$ | z = $\\lvert 0 \\rangle$   |\n"
   ]
  },
  {
   "cell_type": "markdown",
   "metadata": {},
   "source": [
    "| Operators | Commutation Relationship |\n",
    "|-----------|---------------------------|\n",
    "| $\\left[\\sigma_z, \\sigma_x\\right]$ | $2i\\sigma_y$ |\n",
    "| $\\left[\\sigma_z, \\sigma_y\\right]$ | $-2i\\sigma_x$ |\n",
    "| $\\left[\\sigma_+, \\sigma_-\\right]$ | $\\sigma_z$ |\n",
    "| $\\left[\\sigma_z, \\sigma_+\\right]$ | $2\\sigma_+$ |\n",
    "| $\\left[\\sigma_z, \\sigma_-\\right]$ | $-2\\sigma_-$ |\n",
    "| $\\left[\\sigma_+, \\sigma_x\\right]$ | $\\sigma_+$ |\n",
    "| $\\left[\\sigma_+, \\sigma_y\\right]$ | $i\\sigma_+$ |\n",
    "| $\\left[\\sigma_-, \\sigma_x\\right]$ | $-\\sigma_-$ |\n",
    "| $\\left[\\sigma_-, \\sigma_y\\right]$ | $-i\\sigma_-$ |\n"
   ]
  },
  {
   "cell_type": "markdown",
   "metadata": {},
   "source": [
    "| **Baker-Campbell-Hausdorff (BCH) Formula** | $ e^A B e^{-A} = B + [A, B] + \\frac{1}{2!} [A, [A, B]] + \\cdots $ |\n",
    "|--------------------------------------------|--------------------------------------------------------------------|\n",
    "| **Commutation Relationship**               | $ [\\sigma_z, \\sigma^+] = 2\\sigma^+ $ and $ [\\sigma_z, \\sigma^-] = -2\\sigma^- $ |\n",
    "| **Transformation**                         | **Result**                                                         |\n",
    "| $ e^{i \\alpha \\sigma_z} \\sigma^+ e^{-i \\alpha \\sigma_z} $ | $ \\sigma^+ e^{i 2\\alpha} $                                      |\n",
    "| $ e^{i \\alpha \\sigma_z} \\sigma^- e^{-i \\alpha \\sigma_z} $ | $ \\sigma^- e^{-i 2\\alpha} $                                     |\n"
   ]
  },
  {
   "cell_type": "markdown",
   "metadata": {
    "vscode": {
     "languageId": "plaintext"
    }
   },
   "source": [
    "### Hadamard Gate Transformations of Pauli and Related Operators\n",
    "**Definition of the Hadamard Gate**: \n",
    "$$\n",
    "H = \\frac{\\sigma_x + \\sigma_z}{\\sqrt{2}}\n",
    "$$\n",
    "\n",
    "| **Operator**       | **Transformation**             | **Result**          |\n",
    "|--------------------|---------------------------------|---------------------|\n",
    "| $ \\sigma_x $       | $ H \\sigma_x H $               | $ \\sigma_z $        |\n",
    "| $ \\sigma_y $       | $ H \\sigma_y H $               | $ -\\sigma_y $       |\n",
    "| $ \\sigma_z $       | $ H \\sigma_z H $               | $ \\sigma_x $        |\n",
    "| $ \\sigma^+ $ (raising) | $ H \\sigma^+ H $           | $ \\sigma^- $        |\n",
    "| $ \\sigma^- $ (lowering) | $ H \\sigma^- H $          | $ \\sigma^+ $        |\n"
   ]
  },
  {
   "cell_type": "markdown",
   "metadata": {
    "vscode": {
     "languageId": "plaintext"
    }
   },
   "source": [
    "## Pauli Matrix Product Identity for Multi-Qubit Systems\n",
    "\n",
    "| **Expression**                      | **Result**                                      |\n",
    "|-------------------------------------|--------------------------------------------------|\n",
    "| $ \\sigma_{Z_C} \\sigma_{X_T} $       | $ \\sigma_{X_C} \\sigma_{X_T} + \\sigma_{Y_C} \\sigma_{Y_T} $ |\n"
   ]
  },
  {
   "cell_type": "code",
   "execution_count": null,
   "metadata": {
    "vscode": {
     "languageId": "plaintext"
    }
   },
   "outputs": [],
   "source": []
  }
 ],
 "metadata": {
  "language_info": {
   "name": "python"
  }
 },
 "nbformat": 4,
 "nbformat_minor": 2
}
