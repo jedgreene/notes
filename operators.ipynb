{
 "cells": [
  {
   "cell_type": "markdown",
   "metadata": {},
   "source": [
    "| **Operator**       | **General System**                                 | **Qubit System**                               | **Qubit Matrix Representation**                       | **Eigenvalues** |\n",
    "|--------------------|----------------------------------------------------|------------------------------------------------|-------------------------------------------------------|-----------------|\n",
    "| **Annihilation**   | $a$                                                | $\\sigma^-$                                     | $\\begin{pmatrix} 0 & 0 \\\\ 1 & 0 \\end{pmatrix}$       | -               |\n",
    "| **Creation**       | $a^\\dagger$                                        | $\\sigma^+$                                     | $\\begin{pmatrix} 0 & 1 \\\\ 0 & 0 \\end{pmatrix}$       | -               |\n",
    "| **Position**       | $\\hat{X} = \\frac{a + a^\\dagger}{\\sqrt{2}}$         | $\\sigma_x = \\sigma^+ + \\sigma^-$               | $\\begin{pmatrix} 0 & 1 \\\\ 1 & 0 \\end{pmatrix}$       | $\\pm 1$         |\n",
    "| **Momentum**       | $\\hat{Y} = \\frac{a - a^\\dagger}{\\sqrt{2}i}$        | $\\sigma_y = -i(\\sigma^+ - \\sigma^-)$           | $\\begin{pmatrix} 0 & -i \\\\ i & 0 \\end{pmatrix}$      | $\\pm 1$         |\n",
    "| **Spin (z-axis)**  | -                                                  | $\\sigma_z$                                     | $\\begin{pmatrix} 1 & 0 \\\\ 0 & -1 \\end{pmatrix}$      | $\\pm 1$         |\n",
    "| **Commutation**    | $[a, a^\\dagger] = 1$, $[\\hat{X}, \\hat{Y}] = i$     | $[\\sigma^-, \\sigma^+] = \\sigma_z$              | -                                                     | -               |\n",
    "\n",
    "### Eigenvectors of Qubit Operators\n",
    "- For **$\\sigma_x$** (Position analog):\n",
    "  - Eigenvalues: $\\pm 1$\n",
    "  - Eigenvectors:\n",
    "    $$\n",
    "    |+\\rangle = \\frac{1}{\\sqrt{2}} \\begin{pmatrix} 1 \\\\ 1 \\end{pmatrix}, \\quad |-\\rangle = \\frac{1}{\\sqrt{2}} \\begin{pmatrix} 1 \\\\ -1 \\end{pmatrix}.\n",
    "    $$\n",
    "\n",
    "- For **$\\sigma_y$** (Momentum analog):\n",
    "  - Eigenvalues: $\\pm 1$\n",
    "  - Eigenvectors:\n",
    "    $$\n",
    "    |+\\rangle = \\frac{1}{\\sqrt{2}} \\begin{pmatrix} 1 \\\\ i \\end{pmatrix}, \\quad |-\\rangle = \\frac{1}{\\sqrt{2}} \\begin{pmatrix} 1 \\\\ -i \\end{pmatrix}.\n",
    "    $$\n",
    "\n",
    "- For **$\\sigma_z$** (Spin along $z$-axis):\n",
    "  - Eigenvalues: $\\pm 1$\n",
    "  - Eigenvectors:\n",
    "    $$\n",
    "    |0\\rangle = \\begin{pmatrix} 1 \\\\ 0 \\end{pmatrix}, \\quad |1\\rangle = \\begin{pmatrix} 0 \\\\ 1 \\end{pmatrix}.\n",
    "    $$\n"
   ]
  },
  {
   "cell_type": "markdown",
   "metadata": {},
   "source": []
  }
 ],
 "metadata": {
  "language_info": {
   "name": "python"
  }
 },
 "nbformat": 4,
 "nbformat_minor": 2
}
