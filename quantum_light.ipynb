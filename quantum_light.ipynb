{
 "cells": [
  {
   "cell_type": "markdown",
   "metadata": {
    "vscode": {
     "languageId": "plaintext"
    }
   },
   "source": [
    "# 11-5 Quantized electromagnetic rediation\n",
    "https://youtu.be/xz_2hGMYfQk?si=cu6JO6SscoqpXVI8"
   ]
  },
  {
   "cell_type": "markdown",
   "metadata": {
    "vscode": {
     "languageId": "plaintext"
    }
   },
   "source": [
    "\n",
    "## Modes are elementary plane wave solutions of Maxwell’s equations in free space:\n",
    "\n",
    "$$\n",
    "\\vec{\\mathbf{E}}(\\vec{\\mathbf{r}}, t) = \\vec{\\epsilon}_m \\mathcal{E}_m(t) e^{i \\vec{\\mathbf{k}}_m \\cdot \\vec{\\mathbf{r}}} + \\text{c.c.}\n",
    "$$\n",
    "\n",
    "**Usual properties:**\n",
    "\n",
    "$$\n",
    "\\vec{\\epsilon}_m \\perp \\vec{\\mathbf{k}}_m\n",
    "$$\n",
    "\n",
    "$$\n",
    "\\mathcal{E}_m(t) = \\mathcal{E}_m(0) e^{-i \\omega_m t}\n",
    "$$\n",
    "\n",
    "$$\n",
    "\\omega_m = c |\\vec{\\mathbf{k}}_m|\n",
    "$$\n",
    "\n",
    "\n",
    "**Mode $m$ is characterized by $\\vec{\\epsilon}_m, \\vec{\\mathbf{k}}_m$.**  \n",
    "**State of the mode is given by $\\mathcal{E}_m(t)$.**\n"
   ]
  },
  {
   "cell_type": "markdown",
   "metadata": {
    "vscode": {
     "languageId": "plaintext"
    }
   },
   "source": [
    "## Modes are elementary plane wave solutions of Maxwell’s equations in free space:\n",
    "\n",
    "$$\n",
    "\\vec{\\mathbf{E}}(\\vec{\\mathbf{r}}, t) = \\vec{\\epsilon}_m \\mathcal{E}_m(t) e^{i \\vec{\\mathbf{k}}_m \\cdot \\vec{\\mathbf{r}}} + \\text{c.c.}\n",
    "$$\n",
    "\n",
    "**Magnetic field:**\n",
    "\n",
    "$$\n",
    "\\vec{\\mathbf{B}}(\\vec{\\mathbf{r}}, t) = \\frac{\\vec{\\mathbf{k}}_m \\times \\vec{\\epsilon}_m}{\\omega_m} \\mathcal{E}_m(t) e^{i \\vec{\\mathbf{k}}_m \\cdot \\vec{\\mathbf{r}}} + \\text{c.c.}\n",
    "$$\n",
    "\n",
    "**Dynamics of the field:**\n",
    "\n",
    "$$\n",
    "\\frac{d \\mathcal{E}_m(t)}{dt} = -i \\omega_m \\mathcal{E}_m(t)\n",
    "$$"
   ]
  },
  {
   "cell_type": "markdown",
   "metadata": {
    "vscode": {
     "languageId": "plaintext"
    }
   },
   "source": [
    "## Conjugate pair of variables for the electric field\n",
    "\n",
    "**Introduce a complex electric field amplitude:**\n",
    "\n",
    "$$\n",
    "\\mathcal{E}_m(t) = i \\mathcal{E}_m^{(1)} \\alpha_m(t) \\quad \\Rightarrow \\quad \\alpha_m(t) = \\frac{1}{\\sqrt{2\\hbar}} (Q_m + iP_m)\n",
    "$$\n",
    "\n",
    "**Energy inside a small volume:**\n",
    "\n",
    "$$\n",
    "H_m = \\frac{\\epsilon_0}{2} \\int_{V_m} d^3r \\left( \\vec{\\mathbf{E}}^2 + c^2 \\vec{\\mathbf{B}}^2 \\right) = 2 \\epsilon_0 V_m \\left[ \\mathcal{E}_m^{(1)} \\right]^2 |\\alpha_m(t)|^2\n",
    "$$\n",
    "\n",
    "**Quantization volume:**\n",
    "\n",
    "$$\n",
    "V_m\n",
    "$$\n",
    "\n",
    "**One-photon amplitude:**\n",
    "\n",
    "$$\n",
    "\\mathcal{E}_m^{(1)} = \\sqrt{\\frac{\\hbar \\omega_m}{2 \\epsilon_0 V_m}}\n",
    "$$\n",
    "\n",
    "\n",
    "$$\n",
    "H_m = \\hbar \\omega_m |\\alpha_m(t)|^2 = \\frac{\\omega_m}{2} \\left(Q_m^2 + P_m^2\\right) \\quad \\text{S.H.O.}\n",
    "$$\n"
   ]
  },
  {
   "cell_type": "markdown",
   "metadata": {},
   "source": [
    "## Quantized single mode of EM radiation\n",
    "\n",
    "**Define quantum operators with commutation relation:**\n",
    "\n",
    "$$\n",
    "[\\hat{Q}_m, \\hat{P}_m] = i\\hbar \\quad \\longrightarrow \\quad \\hat{H}_m = \\frac{\\omega_m}{2} \\left( \\hat{Q}_m^2 + \\hat{P}_m^2 \\right)\n",
    "$$\n",
    "\n",
    "**Creation / annihilation operators for the EM radiation:**\n",
    "\n",
    "$$\n",
    "\\hat{a}_m = \\frac{1}{\\sqrt{2\\hbar}} \\left( \\hat{Q}_m + i\\hat{P}_m \\right), \\quad \\hat{a}_m^\\dagger = \\frac{1}{\\sqrt{2\\hbar}} \\left( \\hat{Q}_m - i\\hat{P}_m \\right)\n",
    "$$\n",
    "\n",
    "$$\n",
    "\\Rightarrow \\quad [\\hat{a}_m, \\hat{a}_m^\\dagger] = 1\n",
    "$$\n",
    "\n",
    "$$\n",
    "\\hat{H}_m = \\hbar \\omega_m \\left( \\hat{a}^\\dagger \\hat{a} + \\frac{1}{2} \\right)\n",
    "$$\n",
    "#"
   ]
  },
  {
   "cell_type": "markdown",
   "metadata": {},
   "source": [
    "# 12-1 Observables and number state\n",
    "\n",
    "https://youtu.be/2S9AUhz2eUg?si=awGMn1kRgsZDTgiB\n"
   ]
  },
  {
   "cell_type": "markdown",
   "metadata": {},
   "source": [
    "**Important observables:**\n",
    "\n",
    "$$\n",
    "[\\hat{Q}_m, \\hat{P}_m] = i\\hbar \\quad [\\hat{a}, \\hat{a}^\\dagger] = 1\n",
    "$$\n",
    "\n",
    "$$\n",
    "\\hat{a}_m = \\frac{1}{\\sqrt{2\\hbar}} \\left( \\hat{Q}_m + i\\hat{P}_m \\right), \\quad \\hat{a}_m^\\dagger = \\frac{1}{\\sqrt{2\\hbar}} \\left( \\hat{Q}_m - i\\hat{P}_m \\right)\n",
    "$$\n",
    "\n",
    "**Hamiltonian:**\n",
    "\n",
    "$$\n",
    "\\hat{H}_m = \\hbar \\omega_m \\left( \\hat{a}^\\dagger \\hat{a} + \\frac{1}{2} \\right)\n",
    "$$\n",
    "\n",
    "**Number:**\n",
    "\n",
    "$$\n",
    "\\hat{N}_m = \\hat{a}^\\dagger_m \\hat{a}_m\n",
    "$$\n",
    "\n",
    "**EM fields:**\n",
    "\n",
    "$$\n",
    "\\hat{\\mathbf{E}}(\\mathbf{r}) = i \\tilde{\\epsilon}_m \\mathcal{E}_m^{(1)} \\left( \\hat{a}_m e^{i\\mathbf{k}_m \\cdot \\mathbf{r}} - \\hat{a}_m^\\dagger e^{-i\\mathbf{k}_m \\cdot \\mathbf{r}} \\right)\n",
    "$$\n",
    "\n",
    "$$\n",
    "\\hat{\\mathbf{B}}(\\mathbf{r}) = i \\frac{\\mathbf{k}_m \\times \\tilde{\\epsilon}_m}{\\omega_m} \\mathcal{E}_m^{(1)} \\hat{a}_m e^{i\\mathbf{k}_m \\cdot \\mathbf{r}} + \\text{h.c.}\n",
    "$$\n"
   ]
  }
 ],
 "metadata": {
  "language_info": {
   "name": "python"
  }
 },
 "nbformat": 4,
 "nbformat_minor": 2
}
