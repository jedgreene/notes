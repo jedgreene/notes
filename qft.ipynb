{
 "cells": [
  {
   "cell_type": "markdown",
   "metadata": {},
   "source": [
    "![](qft_whiteboard.png)"
   ]
  },
  {
   "cell_type": "markdown",
   "metadata": {},
   "source": [
    "## Quantum State Transformations\n",
    "\n",
    "### General Transformation:\n",
    "$$\n",
    "|x_1, x_2, \\ldots, x_n\\rangle \\rightarrow \\frac{1}{2^{n/2}} \n",
    "\\Big\\{ |0\\rangle + \\exp \\Big[ 2\\pi i \\big( 0.x_n \\big) \\Big] |1\\rangle \\Big\\} \n",
    "\\otimes \\Big\\{ |0\\rangle + \\exp \\Big[ 2\\pi i \\big( 0.x_{n-1} x_n \\big) \\Big] |1\\rangle \\Big\\} \n",
    "\\otimes \\cdots \\otimes \n",
    "\\Big\\{ |0\\rangle + \\exp \\Big[ 2\\pi i \\big( 0.x_1 x_2 \\ldots x_n \\big) \\Big] |1\\rangle \\Big\\}\n",
    "$$\n",
    "\n",
    "### For \\(n = 1\\):\n",
    "$$\n",
    "|x_1\\rangle \\rightarrow \\frac{1}{\\sqrt{2}} \n",
    "\\Big\\{ |0\\rangle + \\exp \\Big[ 2\\pi i \\big( \\frac{x_1}{2} \\big) \\Big] |1\\rangle \\Big\\}\n",
    "$$\n",
    "$$\n",
    "H |0\\rangle = |+\\rangle, \\quad H |1\\rangle = |-\\rangle\n",
    "$$\n",
    "\n",
    "### For \\(n = 2\\):\n",
    "$$\n",
    "|x_1\\rangle \\rightarrow \\frac{1}{\\sqrt{2}} \n",
    "\\Big\\{ |0\\rangle + \\exp \\Big[ 2\\pi i \\big( \\frac{x_2}{2} \\big) \\Big] |1\\rangle \\Big\\}\n",
    "$$\n",
    "$$\n",
    "|x_2\\rangle \\rightarrow \\frac{1}{\\sqrt{2}} \n",
    "\\Big\\{ |0\\rangle + \\exp \\Big[ 2\\pi i \\big( \\frac{x_2}{2} + \\frac{x_3}{4} \\big) \\Big] |1\\rangle \\Big\\}\n",
    "$$\n",
    "\n",
    "### For \\(n = 3\\):\n",
    "$$\n",
    "|x_1\\rangle \\rightarrow \\frac{1}{\\sqrt{2}} \n",
    "\\Big\\{ |0\\rangle + \\exp \\Big[ 2\\pi i \\big( \\frac{x_3}{2} \\big) \\Big] |1\\rangle \\Big\\}\n",
    "$$\n",
    "$$\n",
    "|x_2\\rangle \\rightarrow \\frac{1}{\\sqrt{2}} \n",
    "\\Big\\{ |0\\rangle + \\exp \\Big[ 2\\pi i \\big( \\frac{x_2}{2} + \\frac{x_3}{4} \\big) \\Big] |1\\rangle \\Big\\}\n",
    "$$\n",
    "$$\n",
    "|x_3\\rangle \\rightarrow \\frac{1}{\\sqrt{2}} \n",
    "\\Big\\{ |0\\rangle + \\exp \\Big[ 2\\pi i \\big( \\frac{x_1}{2} + \\frac{x_2}{4} + \\frac{x_3}{8} \\big) \\Big] |1\\rangle \\Big\\}\n",
    "$$\n",
    "\n",
    "## Matrix Representations\n",
    "\n",
    "### General Matrix \\(R_n\\):\n",
    "$$\n",
    "R_n = \\begin{bmatrix} 1 & 0 \\\\ 0 & \\omega_N \\end{bmatrix}, \\quad \n",
    "\\omega_N = \\exp \\Big( 2\\pi i \\frac{N'}{N} \\Big) = \\exp \\Big[ 2\\pi i \\big\\{ 2^{-n} \\big\\} \\Big]\n",
    "$$\n",
    "\n",
    "### Specific Matrices:\n",
    "$$\n",
    "R_2 = \\begin{bmatrix} 1 & 0 \\\\ 0 & \\omega_4 \\end{bmatrix} = \n",
    "\\begin{bmatrix} 1 & 0 \\\\ 0 & i \\end{bmatrix} = S\n",
    "$$\n",
    "$$\n",
    "R_3 = \\begin{bmatrix} 1 & 0 \\\\ 0 & \\omega_8 \\end{bmatrix} = \n",
    "\\begin{bmatrix} 1 & 0 \\\\ 0 & \\exp \\Big( i \\frac{\\pi}{4} \\Big) \\end{bmatrix} = \n",
    "\\begin{bmatrix} 1 & 0 \\\\ 0 & \\frac{1 + i}{\\sqrt{2}} \\end{bmatrix} = T\n",
    "$$\n"
   ]
  },
  {
   "cell_type": "code",
   "execution_count": null,
   "metadata": {},
   "outputs": [],
   "source": []
  }
 ],
 "metadata": {
  "kernelspec": {
   "display_name": "qiskit_env",
   "language": "python",
   "name": "python3"
  },
  "language_info": {
   "codemirror_mode": {
    "name": "ipython",
    "version": 3
   },
   "file_extension": ".py",
   "mimetype": "text/x-python",
   "name": "python",
   "nbconvert_exporter": "python",
   "pygments_lexer": "ipython3",
   "version": "3.13.0"
  }
 },
 "nbformat": 4,
 "nbformat_minor": 2
}
