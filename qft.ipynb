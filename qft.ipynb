{
 "cells": [
  {
   "cell_type": "markdown",
   "metadata": {},
   "source": [
    "# Quantum Circuit Diagram Examples for Quantum Fourier Transform, Tensor Product Representation\n",
    "\n",
    "https://youtu.be/vDc6W8dlocw?si=329NzNAOveIEFPvs"
   ]
  },
  {
   "cell_type": "markdown",
   "metadata": {},
   "source": [
    "![](images/qft_whiteboard.png)"
   ]
  },
  {
   "cell_type": "markdown",
   "metadata": {},
   "source": [
    "## Quantum State Transformations\n",
    "\n",
    "### General Transformation:\n",
    "$$\n",
    "|x_1, x_2, \\ldots, x_n\\rangle \\rightarrow \\frac{1}{2^{n/2}} \n",
    "\\Big\\{ |0\\rangle + \\exp \\Big[ 2\\pi i \\big( 0.x_n \\big) \\Big] |1\\rangle \\Big\\} \n",
    "\\otimes \\Big\\{ |0\\rangle + \\exp \\Big[ 2\\pi i \\big( 0.x_{n-1} x_n \\big) \\Big] |1\\rangle \\Big\\} \n",
    "\\otimes \\cdots \\otimes \n",
    "\\Big\\{ |0\\rangle + \\exp \\Big[ 2\\pi i \\big( 0.x_1 x_2 \\ldots x_n \\big) \\Big] |1\\rangle \\Big\\}\n",
    "$$\n",
    "\n",
    "### For \\(n = 1\\):\n",
    "$$\n",
    "|x_1\\rangle \\rightarrow \\frac{1}{\\sqrt{2}} \n",
    "\\Big\\{ |0\\rangle + \\exp \\Big[ 2\\pi i \\big( \\frac{x_1}{2} \\big) \\Big] |1\\rangle \\Big\\}\n",
    "$$\n",
    "$$\n",
    "H |0\\rangle = |+\\rangle, \\quad H |1\\rangle = |-\\rangle\n",
    "$$\n",
    "\n",
    "### For \\(n = 2\\):\n",
    "$$\n",
    "|x_1\\rangle \\rightarrow \\frac{1}{\\sqrt{2}} \n",
    "\\Big\\{ |0\\rangle + \\exp \\Big[ 2\\pi i \\big( \\frac{x_2}{2} \\big) \\Big] |1\\rangle \\Big\\}\n",
    "$$\n",
    "$$\n",
    "|x_2\\rangle \\rightarrow \\frac{1}{\\sqrt{2}} \n",
    "\\Big\\{ |0\\rangle + \\exp \\Big[ 2\\pi i \\big( \\frac{x_1}{2} + \\frac{x_2}{4} \\big) \\Big] |1\\rangle \\Big\\}\n",
    "$$\n",
    "\n",
    "### For \\(n = 3\\):\n",
    "$$\n",
    "|x_1\\rangle \\rightarrow \\frac{1}{\\sqrt{2}} \n",
    "\\Big\\{ |0\\rangle + \\exp \\Big[ 2\\pi i \\big( \\frac{x_3}{2} \\big) \\Big] |1\\rangle \\Big\\}\n",
    "$$\n",
    "$$\n",
    "|x_2\\rangle \\rightarrow \\frac{1}{\\sqrt{2}} \n",
    "\\Big\\{ |0\\rangle + \\exp \\Big[ 2\\pi i \\big( \\frac{x_2}{2} + \\frac{x_3}{4} \\big) \\Big] |1\\rangle \\Big\\}\n",
    "$$\n",
    "$$\n",
    "|x_3\\rangle \\rightarrow \\frac{1}{\\sqrt{2}} \n",
    "\\Big\\{ |0\\rangle + \\exp \\Big[ 2\\pi i \\big( \\frac{x_1}{2} + \\frac{x_2}{4} + \\frac{x_3}{8} \\big) \\Big] |1\\rangle \\Big\\}\n",
    "$$\n",
    "\n",
    "## Matrix Representations\n",
    "\n",
    "### General Matrix \\(R_n\\):\n",
    "$$\n",
    "R_n = \\begin{bmatrix} 1 & 0 \\\\ 0 & \\omega_N \\end{bmatrix}, \\quad \n",
    "\\omega_N = \\exp \\Big(\\frac{2\\pi i}{N} \\Big) =  \\exp \\Big(\\frac{2\\pi i}{2^n} \\Big)\n",
    "$$\n",
    "\n",
    "### Specific Matrices:\n",
    "$$\n",
    "R_2 = \\begin{bmatrix} 1 & 0 \\\\ 0 & \\omega_4 \\end{bmatrix} = \n",
    "\\begin{bmatrix} 1 & 0 \\\\ 0 & i \\end{bmatrix} = S\n",
    "$$\n",
    "$$\n",
    "R_3 = \\begin{bmatrix} 1 & 0 \\\\ 0 & \\omega_8 \\end{bmatrix} = \n",
    "\\begin{bmatrix} 1 & 0 \\\\ 0 & \\exp \\Big( i \\frac{\\pi}{4} \\Big) \\end{bmatrix} = \n",
    "\\begin{bmatrix} 1 & 0 \\\\ 0 & \\frac{1 + i}{\\sqrt{2}} \\end{bmatrix} = T\n",
    "$$\n"
   ]
  },
  {
   "cell_type": "markdown",
   "metadata": {},
   "source": [
    "# Elucidating the Quantum Fourier Transform Tensor Product Definition\n",
    "\n",
    "https://youtu.be/hbWezrlxu2w?si=JWQxW00-aQf5s043"
   ]
  },
  {
   "cell_type": "markdown",
   "metadata": {},
   "source": [
    "![](images/QFT_elucyda.png)"
   ]
  },
  {
   "cell_type": "markdown",
   "metadata": {},
   "source": [
    "# Implementing the quantum Fourier transform with Qiskit\n",
    "\n",
    "https://leftasexercise.com/2019/02/25/implementing-the-quantum-fourier-transform-with-qiskit/\n",
    "https://github.com/christianb93/QuantumComputing/blob/master/Qiskit/QiskitQFT.ipynb\n",
    "<pre>\n",
    "git@github.com:christianb93/QuantumComputing.git -> /Users/jedgreene/git/qc/QuantumComputing\n",
    "\n",
    "Can't get this to work.\n"
   ]
  },
  {
   "cell_type": "markdown",
   "metadata": {},
   "source": [
    "# Quantum Fourier transform by Jonny Comes\n",
    "\n",
    "https://jonnycomes.github.io/posts/quantum-fourier-transform"
   ]
  },
  {
   "cell_type": "markdown",
   "metadata": {},
   "source": []
  }
 ],
 "metadata": {
  "kernelspec": {
   "display_name": "qiskit_env",
   "language": "python",
   "name": "python3"
  },
  "language_info": {
   "codemirror_mode": {
    "name": "ipython",
    "version": 3
   },
   "file_extension": ".py",
   "mimetype": "text/x-python",
   "name": "python",
   "nbconvert_exporter": "python",
   "pygments_lexer": "ipython3",
   "version": "3.13.0"
  }
 },
 "nbformat": 4,
 "nbformat_minor": 2
}
